{
 "cells": [
  {
   "cell_type": "code",
   "execution_count": null,
   "id": "c34656c7",
   "metadata": {},
   "outputs": [],
   "source": [
    "def delete_Customer():\n",
    "        cursor = cnxn.cursor()\n",
    "        cursor.execute(\"DELETE FROM Customer WHERE Customer_id = '0005' ;)\n",
    "        cnxn.commit()\n",
    "       \n",
    "def delete_Store():\n",
    "        cursor = cnxn.cursor()\n",
    "        cursor.execute(\"DELETE FROM Store WHERE Store_id = 'C028' ;)\n",
    "        cnxn.commit()       \n",
    "\n",
    "def delete_Menuid():\n",
    "        cursor = cnxn.cursor()\n",
    "        cursor.execute(\"DELETE FROM Menu WHERE Menu_id = '0066' ;)\n",
    "        cnxn.commit()\n",
    "                                              \n",
    "def delete_Menuname():\n",
    "        cursor = cnxn.cursor()\n",
    "        cursor.execute(\"DELETE FROM Menu WHERE Menu_name = 'Espresso' ;)\n",
    "        cnxn.commit()\n",
    "\n",
    "def delete_Menutype():\n",
    "        cursor = cnxn.cursor()\n",
    "        cursor.execute(\"DELETE FROM Menu WHERE Menu_TypeID = 'Cold' ;)\n",
    "        cnxn.commit()\n",
    "\n",
    "def delete_Menucategories():\n",
    "        cursor = cnxn.cursor()\n",
    "        cursor.execute(\"DELETE FROM Menu WHERE Menu_Categories = 'Tea' ;)\n",
    "        cnxn.commit()"
   ]
  }
 ],
 "metadata": {
  "kernelspec": {
   "display_name": "Python 3 (ipykernel)",
   "language": "python",
   "name": "python3"
  },
  "language_info": {
   "codemirror_mode": {
    "name": "ipython",
    "version": 3
   },
   "file_extension": ".py",
   "mimetype": "text/x-python",
   "name": "python",
   "nbconvert_exporter": "python",
   "pygments_lexer": "ipython3",
   "version": "3.9.7"
  }
 },
 "nbformat": 4,
 "nbformat_minor": 5
}
