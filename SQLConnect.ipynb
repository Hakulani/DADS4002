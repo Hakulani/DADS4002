{
 "cells": [
  {
   "cell_type": "code",
   "execution_count": 1,
   "id": "f39b504b",
   "metadata": {},
   "outputs": [
    {
     "name": "stdout",
     "output_type": "stream",
     "text": [
      "Requirement already satisfied: pyodbc in c:\\users\\user\\anaconda3\\lib\\site-packages (4.0.32)\n",
      "Note: you may need to restart the kernel to use updated packages.\n"
     ]
    },
    {
     "name": "stderr",
     "output_type": "stream",
     "text": [
      "WARNING: Ignoring invalid distribution -umpy (c:\\users\\user\\anaconda3\\lib\\site-packages)\n",
      "WARNING: Ignoring invalid distribution -umpy (c:\\users\\user\\anaconda3\\lib\\site-packages)\n",
      "WARNING: Ignoring invalid distribution -umpy (c:\\users\\user\\anaconda3\\lib\\site-packages)\n",
      "WARNING: Ignoring invalid distribution -umpy (c:\\users\\user\\anaconda3\\lib\\site-packages)\n",
      "WARNING: Ignoring invalid distribution -umpy (c:\\users\\user\\anaconda3\\lib\\site-packages)\n",
      "WARNING: Ignoring invalid distribution -umpy (c:\\users\\user\\anaconda3\\lib\\site-packages)\n"
     ]
    }
   ],
   "source": [
    "pip install pyodbc"
   ]
  },
  {
   "cell_type": "code",
   "execution_count": 2,
   "id": "12ac9867",
   "metadata": {},
   "outputs": [],
   "source": [
    "import pyodbc"
   ]
  },
  {
   "cell_type": "code",
   "execution_count": 19,
   "id": "cf107ba8",
   "metadata": {},
   "outputs": [],
   "source": [
    "con_string = 'driver=MySQL ODBC 8.0 Unicode Driver;server=127.0.0.1;database=test;uid=root;pwd='''"
   ]
  },
  {
   "cell_type": "code",
   "execution_count": 20,
   "id": "d923ac72",
   "metadata": {},
   "outputs": [],
   "source": [
    "def create_table():\n",
    "    with pyodbc.connect(con_string)as con:\n",
    "        sql_cmd=\"\"\"\n",
    "        create table person(\n",
    "        id int PRIMARY KEY AUTO_INCREMENT,\n",
    "            gender char(1),\n",
    "            weight float,\n",
    "            height float\n",
    "            )\n",
    "        \n",
    "            \"\"\"\n",
    "        con.execute(sql_cmd)\n",
    "if __name__ == '__main__':\n",
    "    create_table()\n",
    "    "
   ]
  },
  {
   "cell_type": "code",
   "execution_count": null,
   "id": "dc22ebca",
   "metadata": {},
   "outputs": [],
   "source": []
  }
 ],
 "metadata": {
  "kernelspec": {
   "display_name": "Python 3 (ipykernel)",
   "language": "python",
   "name": "python3"
  },
  "language_info": {
   "codemirror_mode": {
    "name": "ipython",
    "version": 3
   },
   "file_extension": ".py",
   "mimetype": "text/x-python",
   "name": "python",
   "nbconvert_exporter": "python",
   "pygments_lexer": "ipython3",
   "version": "3.8.12"
  }
 },
 "nbformat": 4,
 "nbformat_minor": 5
}
