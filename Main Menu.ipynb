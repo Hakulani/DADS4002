{
 "cells": [
  {
   "cell_type": "code",
   "execution_count": null,
   "id": "b81b2a42",
   "metadata": {},
   "outputs": [],
   "source": [
    "pip install pyodbc"
   ]
  },
  {
   "cell_type": "markdown",
   "id": "5b4f2d29",
   "metadata": {},
   "source": [
    "Metadata Discovery"
   ]
  },
  {
   "cell_type": "markdown",
   "id": "d375af47",
   "metadata": {},
   "source": [
    "Select"
   ]
  },
  {
   "cell_type": "markdown",
   "id": "3f5460da",
   "metadata": {},
   "source": [
    "Insert"
   ]
  },
  {
   "cell_type": "markdown",
   "id": "862c9ebd",
   "metadata": {},
   "source": [
    "Updbate and Delete"
   ]
  },
  {
   "cell_type": "code",
   "execution_count": null,
   "id": "791488ef",
   "metadata": {},
   "outputs": [],
   "source": []
  },
  {
   "cell_type": "markdown",
   "id": "760b7d03",
   "metadata": {},
   "source": [
    "# Function"
   ]
  },
  {
   "cell_type": "code",
   "execution_count": 232,
   "id": "d0bf0503",
   "metadata": {
    "scrolled": true
   },
   "outputs": [],
   "source": [
    " #View amount summary by Store name\n",
    "import pyodbc\n",
    "cnxn = pyodbc.connect('driver=MySQL ODBC 8.0 Unicode Driver;server=127.0.0.1;database=cafe;uid=root;pwd=Acpz5999')\n",
    "def view_topsale_bystore():\n",
    "    cursor = cnxn.cursor()\n",
    "    cursor.execute(\"SELECT order_record.Store_id,store.Store_name,sum(Amount) as Rev FROM order_record  \\\n",
    "    INNER JOIN store ON store.Store_ID=order_record.Store_id \\\n",
    "    GROUP BY order_record.Store_id ORDER BY 3 DESC\")\n",
    "    row = cursor.fetchone()\n",
    "    print (\"Revenue by Store\")\n",
    "    while row:        \n",
    "        print (row) \n",
    "        row = cursor.fetchone()\n",
    "#View\n",
    "def get_viewlastorder():\n",
    "    cursor = cnxn.cursor()\n",
    "    cursor.execute(\"SELECT * FROM  order_record ORDER BY order_no desc limit 1\") \n",
    "    row = cursor.fetchone() \n",
    "    while row:\n",
    "        print (row) \n",
    "        row = cursor.fetchone()\n",
    "        \n",
    "def get_viewmenu():\n",
    "    cursor = cnxn.cursor()\n",
    "    cursor.execute(\"SELECT * FROM  menu\") \n",
    "    row = cursor.fetchone() \n",
    "    while row:\n",
    "        print (row) \n",
    "        row = cursor.fetchone()\n",
    "def get_vieworder():\n",
    "    cursor = cnxn.cursor()\n",
    "    cursor.execute(\"SELECT * FROM  order_record\") \n",
    "    row = cursor.fetchone() \n",
    "    while row:\n",
    "        print (row) \n",
    "        row = cursor.fetchone()\n",
    "def view_customer_menu(customer_id):\n",
    "    cursor = cnxn.cursor()\n",
    "    cursor.execute(\"SELECT order_record.menu_id , menu.menu_name, count(order_record.menu_id) as countmenu \\\n",
    "FROM order_record  \\\n",
    "JOIN menu ON menu.menu_ID=order_record.menu_id \\\n",
    "WHERE customer_id=? \\\n",
    "GROUP BY order_record.menu_id ORDER BY 3 DESC \",(customer_id))\n",
    "    row = cursor.fetchone()\n",
    "    print (\"customer menu\")\n",
    "    while row:        \n",
    "        print (row) \n",
    "        row = cursor.fetchone()"
   ]
  },
  {
   "cell_type": "code",
   "execution_count": 248,
   "id": "b82653bc",
   "metadata": {},
   "outputs": [],
   "source": [
    "\n",
    "def get_menu():\n",
    "    ID=False\n",
    "    menu_id=input(\"Menu ID 4number xxxx:\")\n",
    "    while ID==False:\n",
    "        \n",
    "        cursor = cnxn.cursor()\n",
    "        cursor.execute(\"SELECT * FROM menu WHERE menu_id=?\",(menu_id))\n",
    "        row = cursor.fetchone()\n",
    "        if row!=None:\n",
    "            ID=True\n",
    "            return (menu_id)\n",
    "        else:\n",
    "            print(\"Menu ID not in list\")\n",
    "            menu_id=input(\"Plaese Enter Menu ID agian:\")\n",
    "    \n",
    "def get_menuprice(menu_id):\n",
    "        cursor = cnxn.cursor()\n",
    "        cursor.execute(\"SELECT menu_SellingPrice FROM menu WHERE menu_id=?\",(menu_id))\n",
    "        row = cursor.fetchone()\n",
    "        while row:\n",
    "            price=row[0]\n",
    "            row = cursor.fetchone()\n",
    "            print('price:',price)\n",
    "            return(price)       \n",
    "def get_menuname(menu_id):\n",
    "    cursor = cnxn.cursor()\n",
    "    cursor.execute(\"SELECT menu_name FROM menu WHERE menu_id=?\",(menu_id))\n",
    "    row = cursor.fetchone()\n",
    "    while row:\n",
    "        name=row[0]\n",
    "        row = cursor.fetchone()\n",
    "        print('name:',name)\n",
    "        return(name)\n",
    "def get_cost(menu_id):\n",
    "    cursor = cnxn.cursor()\n",
    "    cursor.execute(\"SELECT menu_cost FROM menu WHERE menu_id=?\",(menu_id))\n",
    "    row = cursor.fetchone()\n",
    "    while row:\n",
    "        cost=row[0]\n",
    "        row = cursor.fetchone()\n",
    "        print('cost:',cost)\n",
    "        return(cost)  \n",
    "def get_member():\n",
    "    CUS_ID=False\n",
    "    customer_id=input(\"customer_id 4number xxxx:\")\n",
    "    if customer_id=='':\n",
    "        customer_id='0000'\n",
    "        return (customer_id)\n",
    "    else:\n",
    "        while CUS_ID==False:\n",
    "            cursor = cnxn.cursor()\n",
    "            cursor.execute(\"SELECT * FROM customer WHERE customer_id=?\",(customer_id))\n",
    "            row = cursor.fetchone()\n",
    "            if row!=None:\n",
    "                return (customer_id)\n",
    "            else:\n",
    "                print(\"customer id ID not in list\")\n",
    "                customer_id=input(\"Plaese Enter customer_id agian:\")  \n",
    "\n",
    "    \n",
    "def get_discount(customer_id):\n",
    "    if customer_id!='0000':\n",
    "        discount=(quantity*price)*0.1\n",
    "        order_point=1\n",
    "        print('discount',discount)\n",
    "        return (discount,order_point)\n",
    "    else:\n",
    "        discount=0\n",
    "        order_point=0\n",
    "        print('no discount',discount)\n",
    "        return(discount,order_point)\n",
    "def get_orderno():\n",
    "        \n",
    "        cursor = cnxn.cursor()\n",
    "        cursor.execute(\"SELECT Order_NO FROM menu \")\n",
    "        row = cursor.fetchone()\n",
    "        while row:\n",
    "            price=row[0]\n",
    "            row = cursor.fetchone()\n",
    "            print('price:',price)\n",
    "            return(price) \n",
    "def get_profit():\n",
    "    amount=(price*quantity-discount) \n",
    "    profit= amount-(cost*quantity)\n",
    "    return (profit,amount)\n",
    "def print_slip():\n",
    "    print('********************************')\n",
    "    print('customer ID',customer_id)\n",
    "    print('menu:',name)\n",
    "    print('Quantity',quantity)\n",
    "    print('Price',price)\n",
    "    print('Total before discount',price*quantity)\n",
    "    print('Discount',discount)\n",
    "    print('Amount',amount)\n",
    "    print('Point',order_point)\n",
    "    print('********************************')\n",
    "\n",
    "def get_customerpoint(customer_id):\n",
    "    cursor = cnxn.cursor()\n",
    "    cursor.execute(\" SELECT customer_id , SUM(order_point) From order_record WHERE customer_id=? \",(customer_id))\n",
    "    row = cursor.fetchone()\n",
    "    while row:        \n",
    "        a,b=row\n",
    "        row = cursor.fetchone()\n",
    "        return (print(\"Customer point:\",b))\n",
    "\n",
    "def get_royalty():\n",
    "    cursor = cnxn.cursor()\n",
    "    cursor.execute(\" SELECT customer_id ,SUM(order_point) as accpoint \\\n",
    "                   From order_record \\\n",
    "                   GROUP By customer_id \\\n",
    "                   order by accpoint desc limit 10 \")\n",
    "    row = cursor.fetchone()\n",
    "    cus=[]\n",
    "    while row:\n",
    "        print(row)\n",
    "        row = cursor.fetchone()\n",
    "\n",
    "\n",
    "def get_royalty_list():\n",
    "    cursor = cnxn.cursor()\n",
    "    cursor.execute(\" SELECT customer_id ,SUM(order_point) as accpoint \\\n",
    "                   From order_record \\\n",
    "                   GROUP By customer_id \\\n",
    "                   order by accpoint desc limit 11 \")\n",
    "    row = cursor.fetchone()\n",
    "    cus=[]\n",
    "    while row:\n",
    "        row = cursor.fetchone()\n",
    "        cus.append(row)\n",
    "    return(cus)\n",
    "  \n",
    "\n",
    "def royalty_list():\n",
    "    id_list=get_royalty_list()\n",
    "    royalty_list=[]\n",
    "    i=0\n",
    "    for i in range (len(id_list)-1):\n",
    "        royalty_list.append(id_list[i][0])\n",
    "    return (royalty_list)\n",
    "def fav_rayalty_menu(): \n",
    "    id_list=get_royalty_list()\n",
    "    i=0\n",
    "    for i in range (len(id_list)-1):\n",
    "        print(id_list[i][0],\"\\n\",view_customer_menu(id_list[i][0]))      "
   ]
  },
  {
   "cell_type": "markdown",
   "id": "de4da667",
   "metadata": {},
   "source": [
    "# Key order"
   ]
  },
  {
   "cell_type": "code",
   "execution_count": 42,
   "id": "61b5db40",
   "metadata": {
    "scrolled": true
   },
   "outputs": [
    {
     "name": "stdout",
     "output_type": "stream",
     "text": [
      "2022-05-21 17:27:07\n",
      "Menu ID 4number xxxx:0051\n",
      "Quantity:1\n",
      "price: 100\n",
      "name: Mango Sticky Rice\n",
      "cost: 60\n",
      "customer_id 4number xxxx:0011\n",
      "discount 10.0\n",
      "store_id:C004\n",
      "********************************\n",
      "customer ID 0011\n",
      "menu: Mango Sticky Rice\n",
      "Quantity 1\n",
      "Price 100\n",
      "Total before discount 100\n",
      "Discount 10.0\n",
      "Amount 90.0\n",
      "Point 1\n",
      "********************************\n",
      "Customer point: 1\n",
      "(17, datetime.datetime(2022, 5, 21, 17, 27, 7), 1, '0051', '0011', 10.0, 30.0, 90.0, 1, 'C004')\n",
      "more order? yes or noyes\n",
      "2022-05-21 17:27:35\n",
      "Menu ID 4number xxxx:0052\n",
      "Quantity:1\n",
      "price: 150\n",
      "name: Strawberry Pancake\n",
      "cost: 90\n",
      "customer_id 4number xxxx:0012\n",
      "discount 15.0\n",
      "store_id:C004\n",
      "********************************\n",
      "customer ID 0012\n",
      "menu: Strawberry Pancake\n",
      "Quantity 1\n",
      "Price 150\n",
      "Total before discount 150\n",
      "Discount 15.0\n",
      "Amount 135.0\n",
      "Point 1\n",
      "********************************\n",
      "Customer point: 1\n",
      "(18, datetime.datetime(2022, 5, 21, 17, 27, 35), 1, '0052', '0012', 15.0, 45.0, 135.0, 1, 'C004')\n",
      "more order? yes or noyes\n",
      "2022-05-21 17:28:06\n",
      "Menu ID 4number xxxx:0053\n",
      "Quantity:1\n",
      "price: 155\n",
      "name: Choc Banana Pancake\n",
      "cost: 80\n",
      "customer_id 4number xxxx:0016\n",
      "discount 15.5\n",
      "store_id:C004\n",
      "********************************\n",
      "customer ID 0016\n",
      "menu: Choc Banana Pancake\n",
      "Quantity 1\n",
      "Price 155\n",
      "Total before discount 155\n",
      "Discount 15.5\n",
      "Amount 139.5\n",
      "Point 1\n",
      "********************************\n",
      "Customer point: 1\n",
      "(19, datetime.datetime(2022, 5, 21, 17, 28, 6), 1, '0053', '0016', 15.5, 59.5, 139.5, 1, 'C004')\n",
      "more order? yes or noyes\n",
      "2022-05-21 17:28:39\n",
      "Menu ID 4number xxxx:0054\n",
      "Quantity:1\n",
      "price: 120\n",
      "name: Macaron\n",
      "cost: 80\n",
      "customer_id 4number xxxx:0018\n",
      "discount 12.0\n",
      "store_id:C005\n",
      "********************************\n",
      "customer ID 0018\n",
      "menu: Macaron\n",
      "Quantity 1\n",
      "Price 120\n",
      "Total before discount 120\n",
      "Discount 12.0\n",
      "Amount 108.0\n",
      "Point 1\n",
      "********************************\n",
      "Customer point: 1\n",
      "(20, datetime.datetime(2022, 5, 21, 17, 28, 39), 1, '0054', '0018', 12.0, 28.0, 108.0, 1, 'C005')\n",
      "more order? yes or noyes\n",
      "2022-05-21 17:29:01\n",
      "Menu ID 4number xxxx:0056\n",
      "Quantity:1\n",
      "price: 120\n",
      "name: Butter Cake\n",
      "cost: 100\n",
      "customer_id 4number xxxx:0019\n",
      "discount 12.0\n",
      "store_id:C006\n",
      "********************************\n",
      "customer ID 0019\n",
      "menu: Butter Cake\n",
      "Quantity 1\n",
      "Price 120\n",
      "Total before discount 120\n",
      "Discount 12.0\n",
      "Amount 108.0\n",
      "Point 1\n",
      "********************************\n",
      "Customer point: 1\n",
      "(21, datetime.datetime(2022, 5, 21, 17, 29, 1), 1, '0056', '0019', 12.0, 8.0, 108.0, 1, 'C006')\n",
      "more order? yes or noyes\n",
      "2022-05-21 17:29:37\n",
      "Menu ID 4number xxxx:0055\n",
      "Quantity:1\n",
      "price: 150\n",
      "name: Pudding\n",
      "cost: 100\n",
      "customer_id 4number xxxx:0020\n",
      "discount 15.0\n",
      "store_id:C004\n",
      "********************************\n",
      "customer ID 0020\n",
      "menu: Pudding\n",
      "Quantity 1\n",
      "Price 150\n",
      "Total before discount 150\n",
      "Discount 15.0\n",
      "Amount 135.0\n",
      "Point 1\n",
      "********************************\n",
      "Customer point: 1\n",
      "(22, datetime.datetime(2022, 5, 21, 17, 29, 37), 1, '0055', '0020', 15.0, 35.0, 135.0, 1, 'C004')\n",
      "more order? yes or noyes\n",
      "2022-05-21 17:30:06\n",
      "Menu ID 4number xxxx:0057\n",
      "Quantity:1\n",
      "price: 150\n",
      "name: Whole Wheat Bread\n",
      "cost: 120\n",
      "customer_id 4number xxxx:0022\n",
      "discount 15.0\n",
      "store_id:C005\n",
      "********************************\n",
      "customer ID 0022\n",
      "menu: Whole Wheat Bread\n",
      "Quantity 1\n",
      "Price 150\n",
      "Total before discount 150\n",
      "Discount 15.0\n",
      "Amount 135.0\n",
      "Point 1\n",
      "********************************\n",
      "Customer point: 1\n",
      "(23, datetime.datetime(2022, 5, 21, 17, 30, 6), 1, '0057', '0022', 15.0, 15.0, 135.0, 1, 'C005')\n",
      "more order? yes or noyes\n",
      "2022-05-21 17:30:34\n",
      "Menu ID 4number xxxx:0058\n",
      "Quantity:1\n",
      "price: 120\n",
      "name: strawberry cheese pie\n",
      "cost: 80\n",
      "customer_id 4number xxxx:0024\n",
      "discount 12.0\n",
      "store_id:C005\n",
      "********************************\n",
      "customer ID 0024\n",
      "menu: strawberry cheese pie\n",
      "Quantity 1\n",
      "Price 120\n",
      "Total before discount 120\n",
      "Discount 12.0\n",
      "Amount 108.0\n",
      "Point 1\n",
      "********************************\n",
      "Customer point: 1\n",
      "(24, datetime.datetime(2022, 5, 21, 17, 30, 34), 1, '0058', '0024', 12.0, 28.0, 108.0, 1, 'C005')\n",
      "more order? yes or noyes\n",
      "2022-05-21 17:30:54\n",
      "Menu ID 4number xxxx:0059\n",
      "Quantity:1\n",
      "price: 150\n",
      "name: Blueberry Cheese Pie\n",
      "cost: 100\n",
      "customer_id 4number xxxx:0026\n",
      "discount 15.0\n",
      "store_id:C006\n",
      "********************************\n",
      "customer ID 0026\n",
      "menu: Blueberry Cheese Pie\n",
      "Quantity 1\n",
      "Price 150\n",
      "Total before discount 150\n",
      "Discount 15.0\n",
      "Amount 135.0\n",
      "Point 1\n",
      "********************************\n",
      "Customer point: 1\n",
      "(25, datetime.datetime(2022, 5, 21, 17, 30, 54), 1, '0059', '0026', 15.0, 35.0, 135.0, 1, 'C006')\n",
      "more order? yes or noyes\n",
      "2022-05-21 17:31:18\n",
      "Menu ID 4number xxxx:0061\n",
      "Quantity:1\n",
      "price: 25\n",
      "name: Toast\n",
      "cost: 20\n",
      "customer_id 4number xxxx:0029\n",
      "discount 2.5\n",
      "store_id:C004\n",
      "********************************\n",
      "customer ID 0029\n",
      "menu: Toast\n",
      "Quantity 1\n",
      "Price 25\n",
      "Total before discount 25\n",
      "Discount 2.5\n",
      "Amount 22.5\n",
      "Point 1\n",
      "********************************\n",
      "Customer point: 1\n",
      "(26, datetime.datetime(2022, 5, 21, 17, 31, 18), 1, '0061', '0029', 2.5, 2.5, 22.5, 1, 'C004')\n",
      "more order? yes or noyes\n",
      "2022-05-21 17:31:36\n",
      "Menu ID 4number xxxx:0062\n",
      "Quantity:1\n",
      "price: 50\n",
      "name: Waffle\n",
      "cost: 30\n",
      "customer_id 4number xxxx:0020\n",
      "discount 5.0\n",
      "store_id:C005\n",
      "********************************\n",
      "customer ID 0020\n",
      "menu: Waffle\n",
      "Quantity 1\n",
      "Price 50\n",
      "Total before discount 50\n",
      "Discount 5.0\n",
      "Amount 45.0\n",
      "Point 1\n",
      "********************************\n",
      "Customer point: 2\n",
      "(27, datetime.datetime(2022, 5, 21, 17, 31, 36), 1, '0062', '0020', 5.0, 15.0, 45.0, 1, 'C005')\n",
      "more order? yes or nono\n"
     ]
    }
   ],
   "source": [
    "x='yes'\n",
    "while x.lower()=='yes':\n",
    "    from datetime import datetime\n",
    "    def get_datetime():\n",
    "        now = datetime.now()\n",
    "        current_time = now.strftime(\"%Y-%m-%d %H:%M:%S\") \n",
    "        print(current_time)\n",
    "        return (current_time)\n",
    "    datetime=get_datetime()\n",
    "    menu_id=get_menu()\n",
    "    quantity=int(input('Quantity:'))\n",
    "    price=get_menuprice(menu_id)\n",
    "    name=get_menuname(menu_id)\n",
    "    cost=get_cost(menu_id) \n",
    "    customer_id=get_member()\n",
    "    discount,order_point=get_discount(customer_id)\n",
    "    profit,amount=get_profit()\n",
    "    store_id=input('store_id:')\n",
    "    insert_order(datetime,quantity,menu_id,customer_id,discount,profit,amount,order_point,store_id)\n",
    "    print_slip()\n",
    "    get_customerpoint(customer_id)\n",
    "    get_viewlastorder()\n",
    "    x=input(\"more order? yes or no\")\n",
    "    while x!='yes' and x!='no':\n",
    "        x=input(\"more order? yes or no\")\n",
    "        \n",
    "    "
   ]
  },
  {
   "cell_type": "code",
   "execution_count": 233,
   "id": "625197a5",
   "metadata": {
    "scrolled": true
   },
   "outputs": [
    {
     "name": "stdout",
     "output_type": "stream",
     "text": [
      "Revenue by Store\n",
      "('C004', \"Coffee's เซ็นทรัลศรีราชา\", 522.0)\n",
      "('C005', \"Coffee's เซ็นทรัลอยุธยา\", 396.0)\n",
      "('C006', \"Coffee's Centralมหาชัย\", 243.0)\n",
      "('C002', \"Coffee's เซ็นทรัลพระราม9\", 220.5)\n",
      "('C003', \"Coffee's Centralนครราชสีมา\", 175.5)\n",
      "('C023', \"Coffee's บิ๊กซีนครปฐม\", 135.0)\n",
      "('C022', \"Coffee's บิ๊กซีราชดำริ\", 130.5)\n",
      "('C020', \"Coffee's บิ๊กซีสุขาภิบาล3\", 54.0)\n",
      "('C001', \"Coffee's เซ็นทรัลพระราม3\", 31.5)\n"
     ]
    }
   ],
   "source": []
  },
  {
   "cell_type": "code",
   "execution_count": 23,
   "id": "ce71d4c1",
   "metadata": {},
   "outputs": [],
   "source": [
    "def insert_order(order_id,datetime,quantity,menu_id,customer_id,discount,profit,amount,order_point,store_id):\n",
    "    cursor = cnxn.cursor()\n",
    "    cursor.execute(\"INSERT INTO order_record \\\n",
    "    (order_id,Datetime,Quantity, Menu_id, Customer_id,Discount,Profit,Amount,Order_point,Store_id)\\\n",
    "    VALUES (?,?,?,?,?,?,?,?,?)\",(order_id,datetime,quantity,menu_id,customer_id,discount,profit,amount,order_point,store_id))\n",
    "    cnxn.commit()"
   ]
  },
  {
   "cell_type": "markdown",
   "id": "9a847506",
   "metadata": {},
   "source": [
    "# Add / Insert menu"
   ]
  },
  {
   "cell_type": "code",
   "execution_count": 263,
   "id": "4190f43f",
   "metadata": {},
   "outputs": [],
   "source": [
    "def add_menu():\n",
    "    menu_id=input('Menu_id 4 digit:')\n",
    "    menu_name=input('Menu_name:')\n",
    "    menu_sellingPrice=int(input('Menu_SellingPrice int:'))\n",
    "    menu_cost=int(input('Menu_cost int:'))\n",
    "    menu_type=input('Menu_Type Drink: Hot/Cold/Frappe or Dessert:')\n",
    "    menu_categories=input('Coffee/Milk-Chocolate/Smoothies/Tea/Dessert')\n",
    "    cursor = cnxn.cursor()\n",
    "    cursor.execute(\"INSERT INTO menu\\\n",
    "    (Menu_id,Menu_name,Menu_SellingPrice,Menu_cost,Menu_Type,Menu_Categories)\\\n",
    "    VALUES (?,?,?,?,?,?)\",(menu_id,menu_name,menu_sellingPrice,menu_cost,menu_type,menu_categories))\n",
    "    cnxn.commit()\n",
    " "
   ]
  },
  {
   "cell_type": "code",
   "execution_count": 264,
   "id": "cb8c62e7",
   "metadata": {
    "scrolled": false
   },
   "outputs": [
    {
     "name": "stdout",
     "output_type": "stream",
     "text": [
      "Menu_id 4 digit:0073\n",
      "Menu_name:Mango\n",
      "Menu_SellingPrice int:100\n",
      "Menu_cost int:80\n",
      "Menu_Type Drink: Hot/Cold/Frappe or Dessert:Frappe\n",
      "Coffee/Milk-Chocolate/Smoothies/Tea/DessertSmoothies\n"
     ]
    }
   ],
   "source": [
    "add_menu()"
   ]
  },
  {
   "cell_type": "code",
   "execution_count": 266,
   "id": "c908c77f",
   "metadata": {
    "scrolled": true
   },
   "outputs": [
    {
     "name": "stdout",
     "output_type": "stream",
     "text": [
      "('0001', 'Espresso', 35, 20, 'Hot', 'Coffee')\n",
      "('0002', 'Espresso', 55, 25, 'Cold', 'Coffee')\n",
      "('0003', 'Espresso', 60, 30, 'Frappe', 'Coffee')\n",
      "('0004', 'Espresso Con Panna', 45, 25, 'Hot', 'Coffee')\n",
      "('0005', 'Espresso Con Panna', 65, 30, 'Cold', 'Coffee')\n",
      "('0006', 'Espresso Con Panna', 70, 35, 'Frappe', 'Coffee')\n",
      "('0007', 'Americano', 50, 30, 'Hot', 'Coffee')\n",
      "('0008', 'Americano', 55, 35, 'Cold', 'Coffee')\n",
      "('0009', 'Americano', 60, 40, 'Frappe', 'Coffee')\n",
      "('0010', 'Long Black', 50, 30, 'Hot', 'Coffee')\n",
      "('0011', 'Long Black', 55, 35, 'Cold', 'Coffee')\n",
      "('0012', 'Long Black', 60, 40, 'Frappe', 'Coffee')\n",
      "('0013', 'Latte', 50, 30, 'Hot', 'Coffee')\n",
      "('0014', 'Latte', 65, 35, 'Cold', 'Coffee')\n",
      "('0015', 'Latte', 70, 40, 'Frappe', 'Coffee')\n",
      "('0016', 'Piccolo', 50, 20, 'Hot', 'Coffee')\n",
      "('0017', 'Piccolo', 55, 25, 'Cold', 'Coffee')\n",
      "('0018', 'Piccolo', 60, 30, 'Frappe', 'Coffee')\n",
      "('0019', 'Cappuccino', 45, 25, 'Hot', 'Coffee')\n",
      "('0020', 'Cappuccino', 60, 30, 'Cold', 'Coffee')\n",
      "('0021', 'Cappuccino', 65, 35, 'Frappe', 'Coffee')\n",
      "('0022', 'Mocha', 50, 25, 'Hot', 'Coffee')\n",
      "('0023', 'Mocha', 60, 30, 'Cold', 'Coffee')\n",
      "('0024', 'Mocha', 70, 35, 'Frappe', 'Coffee')\n",
      "('0025', 'White Mocha', 55, 30, 'Hot', 'Coffee')\n",
      "('0026', 'White Mocha', 65, 35, 'Cold', 'Coffee')\n",
      "('0027', 'White Mocha', 75, 40, 'Frappe', 'Coffee')\n",
      "('0028', 'Macchiato', 50, 25, 'Hot', 'Coffee')\n",
      "('0029', 'Macchiato', 60, 30, 'Cold', 'Coffee')\n",
      "('0030', 'Macchiato', 70, 35, 'Frappe', 'Coffee')\n",
      "('0031', 'Caramel Macchiato', 55, 30, 'Hot', 'Coffee')\n",
      "('0032', 'Caramel Macchiato', 65, 35, 'Cold', 'Coffee')\n",
      "('0033', 'Caramel Macchiato', 75, 40, 'Frappe', 'Coffee')\n",
      "('0034', 'Italian soda', 50, 20, 'Cold', 'Coffee')\n",
      "('0035', 'Chocolate', 45, 25, 'Hot', 'Coffee')\n",
      "('0036', 'Chocolate', 50, 30, 'Cold', 'Coffee')\n",
      "('0037', 'Chocolate', 55, 35, 'Frappe', 'Coffee')\n",
      "('0038', 'Dark Chocolate', 50, 30, 'Hot', 'Milk-Chocolate')\n",
      "('0039', 'Dark Chocolate', 55, 35, 'Cold', 'Milk-Chocolate')\n",
      "('0040', 'Dark Chocolate', 60, 40, 'Frappe', 'Milk-Chocolate')\n",
      "('0042', 'Green Tea', 40, 15, 'Hot', 'Tea')\n",
      "('0043', 'Green Tea', 45, 20, 'Cold', 'Tea')\n",
      "('0044', 'Green Tea', 50, 25, 'Frappe', 'Tea')\n",
      "('0045', 'Milk Tea', 45, 20, 'Hot', 'Tea')\n",
      "('0046', 'Milk Tea', 50, 25, 'Cold', 'Tea')\n",
      "('0047', 'Milk Tea', 55, 30, 'Frappe', 'Tea')\n",
      "('0048', 'Thai Tea', 45, 20, 'Hot', 'Tea')\n",
      "('0049', 'Thai Tea', 50, 25, 'Cold', 'Tea')\n",
      "('0050', 'Thai Tea', 55, 30, 'Frappe', 'Tea')\n",
      "('0051', 'Mango Sticky Rice', 100, 60, 'Dessert', 'Dessert')\n",
      "('0052', 'Strawberry Pancake', 150, 90, 'Dessert', 'Dessert')\n",
      "('0053', 'Choc Banana Pancake', 155, 80, 'Dessert', 'Dessert')\n",
      "('0054', 'Macaron', 120, 80, 'Dessert', 'Dessert')\n",
      "('0055', 'Pudding', 150, 100, 'Dessert', 'Dessert')\n",
      "('0056', 'Butter Cake', 120, 100, 'Dessert', 'Dessert')\n",
      "('0057', 'Whole Wheat Bread', 150, 120, 'Dessert', 'Dessert')\n",
      "('0058', 'strawberry cheese pie', 120, 80, 'Dessert', 'Dessert')\n",
      "('0059', 'Blueberry Cheese Pie', 150, 100, 'Dessert', 'Dessert')\n",
      "('0060', 'Honey Toast', 150, 80, 'Dessert', 'Dessert')\n",
      "('0061', 'Toast', 25, 20, 'Dessert', 'Dessert')\n",
      "('0062', 'Waffle', 50, 30, 'Dessert', 'Dessert')\n",
      "('0063', 'Cheese cake', 125, 80, 'Dessert', 'Dessert')\n",
      "('0064', 'Custard Cake', 60, 40, 'Dessert', 'Dessert')\n",
      "('0065', 'Cookie', 150, 90, 'Dessert', 'Dessert')\n",
      "('0066', 'Brownie', 80, 50, 'Dessert', 'Dessert')\n",
      "('0067', 'Pancake', 40, 20, 'Dessert', 'Dessert')\n",
      "('0068', 'Banana Cake', 40, 20, 'Dessert', 'Dessert')\n",
      "('0069', 'Muffin', 90, 30, 'Dessert', 'Dessert')\n",
      "('0070', 'Cake Roll', 45, 20, 'Dessert', 'Dessert')\n",
      "('0071', 'Basque Cheesecake', 250, 100, 'Dessert', 'Dessert')\n",
      "('0073', 'Mango', 100, 80, 'Frappe', 'Smoothies')\n"
     ]
    }
   ],
   "source": [
    "get_viewmenu()"
   ]
  },
  {
   "cell_type": "code",
   "execution_count": 295,
   "id": "237ad086",
   "metadata": {},
   "outputs": [],
   "source": [
    "def add_menu():\n",
    "    menu_id=input('Menu_id 4 digit:')\n",
    "    menu_name=input('Menu_name:')\n",
    "    menu_sellingPrice=int(input('Menu_SellingPrice int:'))\n",
    "    menu_cost=int(input('Menu_cost int:'))\n",
    "    menu_type=input('Menu_Type Drink: Hot/Cold/Frappe or Dessert:')\n",
    "    menu_categories=input('Coffee/Milk-Chocolate/Smoothies/Tea/Dessert')\n",
    "    cursor = cnxn.cursor()\n",
    "    cursor.execute(\"UPDATE INTO menu\\\n",
    "    (Menu_id,Menu_name,Menu_SellingPrice,Menu_cost,Menu_Type,Menu_Categories)\\\n",
    "    VALUES (?,?,?,?,?,?)\",(menu_id,menu_name,menu_sellingPrice,menu_cost,menu_type,menu_categories))\n",
    "    cnxn.commit()"
    def add_store():
      store_id=input('store_id 4 digit Cxxx:')
      store_name=input('store_name:')
      Store_province=input('Store_province:')

      cursor = cnxn.cursor()
      cursor.execute("INSERT INTO store\
      (store_id,store_name,Store_province)\
      VALUES (?,?,?)",(store_id,store_name,Store_province))
      cnxn.commit()
    def add_customer():
        customer_id=input('customer_id 4 digit:')
        Customer_firstname=input('Customer_firstname:')
        Customer_lastname=input('Customer_lastname:')
        Customer_age=int(input('Customer_age:'))
        Customer_points=int(input('Customer_points:'))
        Customer_gender=input('Customer_gender:')

        cursor = cnxn.cursor()
        cursor.execute("INSERT INTO customer\
        (customer_id,Customer_firstname,Customer_lastname,Customer_age,Customer_points,Customer_gender)\
        VALUES (?,?,?)",(customer_id,Customer_firstname,Customer_lastname,Customer_age,Customer_points,Customer_gender))
        cnxn.commit()   
   ]
  },
  {
   "cell_type": "code",
   "execution_count": 296,
   "id": "f0035872",
   "metadata": {},
   "outputs": [],
   "source": [
    "def update_menuprice():\n",
    "    menu_id=input('Menu_id 4 digit:')\n",
    "    menu_sellingPrice=int(input('Menu_SellingPrice int:'))\n",
    "    menu_oldsellingPrice=int(input('Menu Old SellingPrice int:'))\n",
    "     \n",
    "    cursor = cnxn.cursor()\n",
    "    cursor.execute(\"UPDATE menu \\\n",
    "                SET Menu_SellingPrice =? \\\n",
    "                WHERE Menu_SellingPrice =? \\\n",
    "                AND Menu_id =?;\"\\\n",
    "             ,(menu_sellingPrice,menu_oldsellingPrice,menu_id))\n",
    "    cnxn.commit()"
    def update_menuprice():
         menu_id=input('Menu_id 4 digit:')
         menu_sellingPrice=int(input('Menu_SellingPrice int:'))
         menu_oldsellingPrice=int(input('Menu Old SellingPrice int:'))
         cursor = cnxn.cursor()
         cursor.execute("UPDATE menu \
                     SET Menu_SellingPrice =? \
                     WHERE Menu_SellingPrice =? \
                     AND Menu_id =?;"\
                  ,(menu_sellingPrice,menu_oldsellingPrice,menu_id))
         cnxn.commit()
     def update_menuType():
         menu_id=input('Menu_id 4 digit:')
         menu_Type=int(input('Menu_Type:'))
         menu_oldType=int(input('Menu Old Type:'))
         cursor = cnxn.cursor()
         cursor.execute("UPDATE menu \
                     SET menu_Type =? \
                     WHERE menu_Type =? \
                     AND Menu_id =?;"\
                  ,(menu_Type,menu_oldType,menu_id))
         cnxn.commit()
     def update_MenuCategories():
         menu_id=input('Menu_id 4 digit:')
         menu_Categories=int(input('Menu_Categories:'))
         menu_oldCategories=int(input('Menu Old Categories:'))
         cursor = cnxn.cursor()
         cursor.execute("UPDATE menu \
                     SET menu_Categories =? \
                     WHERE menu_Categories =? \
                     AND Menu_id =?;"\
                  ,(menu_Categories,menu_oldCategories,menu_id))
         cnxn.commit() 
   ]
  },
  {
   "cell_type": "code",
   "execution_count": 297,
   "id": "8b853a5f",
   "metadata": {},
   "outputs": [
    {
     "name": "stdout",
     "output_type": "stream",
     "text": [
      "Menu_id 4 digit:0073\n",
      "Menu_SellingPrice int:100\n",
      "Menu Old SellingPrice int:120\n"
     ]
    }
   ],
   "source": [
    "update_menuprice()"
   ]
  },
  {
   "cell_type": "code",
   "execution_count": null,
   "id": "4caef48c",
   "metadata": {},
   "outputs": [],
   "source": [
    "def update_menucost():"
   ]
  },
  {
   "cell_type": "code",
   "execution_count": null,
   "id": "e120cc3a",
   "metadata": {},
   "outputs": [],
   "source": [
    "def update_menuname():"
   ]
  }
 ],
 "metadata": {
  "kernelspec": {
   "display_name": "Python 3 (ipykernel)",
   "language": "python",
   "name": "python3"
  },
  "language_info": {
   "codemirror_mode": {
    "name": "ipython",
    "version": 3
   },
   "file_extension": ".py",
   "mimetype": "text/x-python",
   "name": "python",
   "nbconvert_exporter": "python",
   "pygments_lexer": "ipython3",
   "version": "3.9.7"
  }
 },
 "nbformat": 4,
 "nbformat_minor": 5
}
