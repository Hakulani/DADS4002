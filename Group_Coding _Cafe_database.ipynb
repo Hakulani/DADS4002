{
 "cells": [
  {
   "cell_type": "markdown",
   "id": "f817fca2",
   "metadata": {},
   "source": [
    "DADS4002 Final Project</br>\n",
    "Group:Coding</br>\n",
    "Cafe_database</br>\n",
    "Member</br>\n",
    "Latthawan Chantharasukha 6420422015</br>\n",
    "Witsarut Wongsim 6420422017 </br>\n",
    "Pajaya Kanjanakaew 6420422028</br>\n",
    " \n",
    "\n"
   ]
  },
  {
   "cell_type": "markdown",
   "id": "da68dd59",
   "metadata": {},
   "source": [
    "# Install Libraly"
   ]
  },
  {
   "cell_type": "code",
   "execution_count": null,
   "id": "b81b2a42",
   "metadata": {},
   "outputs": [],
   "source": [
    "pip install pyodbc"
   ]
  },
  {
   "cell_type": "markdown",
   "id": "760b7d03",
   "metadata": {},
   "source": [
    "# Function"
   ]
  },
  {
   "cell_type": "code",
   "execution_count": 2,
   "id": "d0bf0503",
   "metadata": {
    "scrolled": true
   },
   "outputs": [],
   "source": [
    "#import library\n",
    "import pyodbc\n",
    "#Connection string\n",
    "cnxn = pyodbc.connect('driver=MySQL ODBC 8.0 Unicode Driver;server=127.0.0.1;database=cafe;uid=root;pwd=Acpz5999')\n",
    "#Write function\n",
    "def view_topsale_bystore():\n",
    "    cursor = cnxn.cursor()\n",
    "    cursor.execute(\"SELECT order_record.Store_id,store.Store_name,sum(Amount) as Rev FROM order_record  \\\n",
    "    INNER JOIN store ON store.Store_ID=order_record.Store_id \\\n",
    "    GROUP BY order_record.Store_id ORDER BY 3 DESC\")\n",
    "    row = cursor.fetchone()\n",
    "    print (\"Revenue by Store\")\n",
    "    while row:        \n",
    "        print (row) \n",
    "        row = cursor.fetchone()\n",
    "#View\n",
    "def get_viewlastorder():\n",
    "    cursor = cnxn.cursor()\n",
    "    cursor.execute(\"SELECT * FROM  order_record ORDER BY order_no desc limit 1\") \n",
    "    row = cursor.fetchone() \n",
    "    while row:\n",
    "        print (row) \n",
    "        row = cursor.fetchone()\n",
    "        \n",
    "def get_viewmenu():\n",
    "    cursor = cnxn.cursor()\n",
    "    cursor.execute(\"SELECT * FROM  menu\") \n",
    "    row = cursor.fetchone() \n",
    "    while row:\n",
    "        print (row) \n",
    "        row = cursor.fetchone()\n",
    "        \n",
    "def get_viewcustomer():\n",
    "    cursor = cnxn.cursor()\n",
    "    cursor.execute(\"SELECT * FROM  customer\") \n",
    "    row = cursor.fetchone() \n",
    "    while row:\n",
    "        print (row) \n",
    "        row = cursor.fetchone()\n",
    "        \n",
    "def get_viewstore():\n",
    "    cursor = cnxn.cursor()\n",
    "    cursor.execute(\"SELECT * FROM  store\") \n",
    "    row = cursor.fetchone() \n",
    "    while row:\n",
    "        print (row) \n",
    "        row = cursor.fetchone()\n",
    "        \n",
    "def get_vieworder():\n",
    "    cursor = cnxn.cursor()\n",
    "    cursor.execute(\"SELECT * FROM  order_record\") \n",
    "    row = cursor.fetchone() \n",
    "    while row:\n",
    "        print (row) \n",
    "        row = cursor.fetchone()\n",
    "def view_customer_menu(customer_id):\n",
    "    cursor = cnxn.cursor()\n",
    "    cursor.execute(\"SELECT order_record.menu_id , menu.menu_name, count(order_record.menu_id) as countmenu \\\n",
    "FROM order_record  \\\n",
    "JOIN menu ON menu.menu_ID=order_record.menu_id \\\n",
    "WHERE customer_id=? \\\n",
    "GROUP BY order_record.menu_id ORDER BY 3 DESC \",(customer_id))\n",
    "    row = cursor.fetchone()\n",
    "    print (\"customer menu\")\n",
    "    while row:        \n",
    "        print (row) \n",
    "        row = cursor.fetchone()"
   ]
  },
  {
   "cell_type": "code",
   "execution_count": 99,
   "id": "6bf5ed29",
   "metadata": {},
   "outputs": [],
   "source": [
    "def get_store():\n",
    "    ID=False\n",
    "    store_id=input(\"'Store_id 4 digit Cxxx:'\")\n",
    "    while ID==False:\n",
    "        cursor = cnxn.cursor()\n",
    "        cursor.execute(\"SELECT * FROM store WHERE store_id=?\",(store_id))\n",
    "        row = cursor.fetchone()\n",
    "        if row!=None:\n",
    "            return (store_id)\n",
    "        else:\n",
    "            print(\"store_ID not in list\")\n",
    "            store_id=input(\"Plaese Enter Store ID agian:\")\n",
    "            \n",
    "def get_storename(store_id):\n",
    "    cursor = cnxn.cursor()\n",
    "    cursor.execute(\"SELECT store_name FROM store WHERE store_id=?\",(store_id))\n",
    "    row = cursor.fetchone()\n",
    "    while row:\n",
    "        name=row[0]\n",
    "        row = cursor.fetchone()\n",
    "        print('name:',name)\n",
    "        return(name)\n",
    "    \n",
    "def get_store_province(store_id):\n",
    "    cursor = cnxn.cursor()\n",
    "    cursor.execute(\"SELECT store_province FROM store WHERE store_id=?\",(store_id))\n",
    "    row = cursor.fetchone()\n",
    "    while row:\n",
    "        name=row[0]\n",
    "        row = cursor.fetchone()\n",
    "        print('province:',name)\n",
    "        return(name)"
   ]
  },
  {
   "cell_type": "code",
   "execution_count": 83,
   "id": "881ef8c6",
   "metadata": {
    "scrolled": true
   },
   "outputs": [
    {
     "name": "stdout",
     "output_type": "stream",
     "text": [
      "name: Coffee's บิ๊กซีสุขาภิบาล3\n"
     ]
    },
    {
     "data": {
      "text/plain": [
       "\"Coffee's บิ๊กซีสุขาภิบาล3\""
      ]
     },
     "execution_count": 83,
     "metadata": {},
     "output_type": "execute_result"
    }
   ],
   "source": [
    "get_storename('C020')"
   ]
  },
  {
   "cell_type": "code",
   "execution_count": 100,
   "id": "ddb81da6",
   "metadata": {},
   "outputs": [
    {
     "name": "stdout",
     "output_type": "stream",
     "text": [
      "province: กรุงเทพมหานคร\n"
     ]
    },
    {
     "data": {
      "text/plain": [
       "'กรุงเทพมหานคร'"
      ]
     },
     "execution_count": 100,
     "metadata": {},
     "output_type": "execute_result"
    }
   ],
   "source": [
    "get_store_province('C020')"
   ]
  },
  {
   "cell_type": "code",
   "execution_count": 16,
   "id": "b82653bc",
   "metadata": {},
   "outputs": [],
   "source": [
    "\n",
    "def get_menu():\n",
    "    ID=False\n",
    "    menu_id=input(\"Menu ID 4number xxxx:\")\n",
    "    while ID==False:\n",
    "        \n",
    "        cursor = cnxn.cursor()\n",
    "        cursor.execute(\"SELECT * FROM menu WHERE menu_id=?\",(menu_id))\n",
    "        row = cursor.fetchone()\n",
    "        if row!=None:\n",
    "            ID=True\n",
    "            return (menu_id)\n",
    "        else:\n",
    "            print(\"Menu ID not in list\")\n",
    "            menu_id=input(\"Plaese Enter Menu ID agian:\")\n",
    "    \n",
    "def get_menuprice(menu_id):\n",
    "    cursor = cnxn.cursor()\n",
    "    cursor.execute(\"SELECT menu_SellingPrice FROM menu WHERE menu_id=?\",(menu_id))\n",
    "    row = cursor.fetchone()\n",
    "    while row:\n",
    "        price=row[0]\n",
    "        row = cursor.fetchone()\n",
    "        print('price:',price)\n",
    "        return(price)       \n",
    "def get_menuname(menu_id):\n",
    "    cursor = cnxn.cursor()\n",
    "    cursor.execute(\"SELECT menu_name FROM menu WHERE menu_id=?\",(menu_id))\n",
    "    row = cursor.fetchone()\n",
    "    while row:\n",
    "        name=row[0]\n",
    "        row = cursor.fetchone()\n",
    "        print('name:',name)\n",
    "        return(name)\n",
    "def get_cost(menu_id):\n",
    "    cursor = cnxn.cursor()\n",
    "    cursor.execute(\"SELECT menu_cost FROM menu WHERE menu_id=?\",(menu_id))\n",
    "    row = cursor.fetchone()\n",
    "    while row:\n",
    "        cost=row[0]\n",
    "        row = cursor.fetchone()\n",
    "        print('cost:',cost)\n",
    "        return(cost)  \n",
    "def get_member():\n",
    "    CUS_ID=False\n",
    "    customer_id=input(\"customer_id 4number xxxx:\")\n",
    "    if customer_id=='':\n",
    "        customer_id='0000'\n",
    "        return (customer_id)\n",
    "    else:\n",
    "        while CUS_ID==False:\n",
    "            cursor = cnxn.cursor()\n",
    "            cursor.execute(\"SELECT * FROM customer WHERE customer_id=?\",(customer_id))\n",
    "            row = cursor.fetchone()\n",
    "            if row!=None:\n",
    "                return (customer_id)\n",
    "            else:\n",
    "                print(\"customer id ID not in list\")\n",
    "                customer_id=input(\"Plaese Enter customer_id agian:\")  \n",
    "def get_cusfirstname(customer_id):\n",
    "    \n",
    "    cursor = cnxn.cursor()\n",
    "    cursor.execute(\"SELECT customer_firstname FROM customer WHERE customer_id=?\",(customer_id))\n",
    "    row = cursor.fetchone()\n",
    "    if row!=None:\n",
    "        print(row[0])\n",
    "        return (row[0])\n",
    "          \n",
    "def get_cuslastname(customer_id):\n",
    "    \n",
    "    cursor = cnxn.cursor()\n",
    "    cursor.execute(\"SELECT customer_lastname FROM customer WHERE customer_id=?\",(customer_id))\n",
    "    row = cursor.fetchone()\n",
    "    if row!=None:\n",
    "        print(row[0])\n",
    "        return (row[0])  \n",
    "    \n",
    "def get_customerage(customer_id):\n",
    "    \n",
    "    cursor = cnxn.cursor()\n",
    "    cursor.execute(\"SELECT customer_age FROM customer WHERE customer_id=?\",(customer_id))\n",
    "    row = cursor.fetchone()\n",
    "    if row!=None:\n",
    "        print(row[0])\n",
    "        return (row[0]) \n",
    "       \n",
    "def get_discount(customer_id):\n",
    "    if customer_id!='0000':\n",
    "        discount=(quantity*price)*0.1\n",
    "        order_point=1\n",
    "        print('discount',discount)\n",
    "        return (discount,order_point)\n",
    "    else:\n",
    "        discount=0\n",
    "        order_point=0\n",
    "        print('no discount',discount)\n",
    "        return(discount,order_point)\n",
    "def get_orderno():\n",
    "        \n",
    "    cursor = cnxn.cursor()\n",
    "    cursor.execute(\"SELECT Order_NO FROM menu \")\n",
    "    row = cursor.fetchone()\n",
    "    while row:\n",
    "        price=row[0]\n",
    "        row = cursor.fetchone()\n",
    "        print('price:',price)\n",
    "        return(price) \n",
    "def get_profit():\n",
    "    amount=(price*quantity-discount) \n",
    "    profit= amount-(cost*quantity)\n",
    "    return (profit,amount)\n",
    "def print_slip():\n",
    "    print('********************************')\n",
    "    print('customer ID',customer_id)\n",
    "    print('menu:',name)\n",
    "    print('Quantity',quantity)\n",
    "    print('Price',price)\n",
    "    print('Total before discount',price*quantity)\n",
    "    print('Discount',discount)\n",
    "    print('Amount',amount)\n",
    "    print('Point',order_point)\n",
    "    print('********************************')\n",
    "\n",
    "def get_customerpoint(customer_id):\n",
    "    cursor = cnxn.cursor()\n",
    "    cursor.execute(\" SELECT customer_id , SUM(order_point) From order_record WHERE customer_id=? \",(customer_id))\n",
    "    row = cursor.fetchone()\n",
    "    while row:        \n",
    "        a,b=row\n",
    "        row = cursor.fetchone()\n",
    "        return (print(\"Customer point:\",b))\n",
    "\n",
    "def get_royalty():\n",
    "    cursor = cnxn.cursor()\n",
    "    cursor.execute(\" SELECT customer_id ,SUM(order_point) as accpoint \\\n",
    "                   From order_record \\\n",
    "                   GROUP By customer_id \\\n",
    "                   order by accpoint desc limit 10 \")\n",
    "    row = cursor.fetchone()\n",
    "    cus=[]\n",
    "    while row:\n",
    "        print(row)\n",
    "        row = cursor.fetchone()\n",
    "\n",
    "\n",
    "def get_royalty_list():\n",
    "    cursor = cnxn.cursor()\n",
    "    cursor.execute(\" SELECT customer_id ,SUM(order_point) as accpoint \\\n",
    "                   From order_record \\\n",
    "                   GROUP By customer_id \\\n",
    "                   order by accpoint desc limit 11 \")\n",
    "    row = cursor.fetchone()\n",
    "    cus=[]\n",
    "    while row:\n",
    "        row = cursor.fetchone()\n",
    "        cus.append(row)\n",
    "    return(cus)\n",
    "  \n",
    "\n",
    "def royalty_list():\n",
    "    id_list=get_royalty_list()\n",
    "    royalty_list=[]\n",
    "    i=0\n",
    "    for i in range (len(id_list)-1):\n",
    "        royalty_list.append(id_list[i][0])\n",
    "    return (royalty_list)\n",
    "def fav_rayalty_menu(): \n",
    "    id_list=get_royalty_list()\n",
    "    i=0\n",
    "    for i in range (len(id_list)-1):\n",
    "        print(id_list[i][0],\"\\n\",view_customer_menu(id_list[i][0]))      "
   ]
  },
  {
   "cell_type": "code",
   "execution_count": 126,
   "id": "165621e9",
   "metadata": {},
   "outputs": [
    {
     "name": "stdout",
     "output_type": "stream",
     "text": [
      "ณัฐมน\n"
     ]
    },
    {
     "data": {
      "text/plain": [
       "'ณัฐมน'"
      ]
     },
     "execution_count": 126,
     "metadata": {},
     "output_type": "execute_result"
    }
   ],
   "source": []
  },
  {
   "cell_type": "markdown",
   "id": "47511d76",
   "metadata": {},
   "source": [
    "# View Table"
   ]
  },
  {
   "cell_type": "markdown",
   "id": "51040c82",
   "metadata": {},
   "source": [
    "order_record"
   ]
  },
  {
   "cell_type": "code",
   "execution_count": 2,
   "id": "ed895fb7",
   "metadata": {
    "scrolled": true
   },
   "outputs": [
    {
     "name": "stdout",
     "output_type": "stream",
     "text": [
      "(1, datetime.datetime(2022, 5, 21, 16, 45, 38), 1, '0002', '0003', 5.5, 24.5, 49.5, 1, 'C023')\n",
      "(2, datetime.datetime(2022, 5, 21, 16, 46, 9), 1, '0001', '0003', 3.5, 11.5, 31.5, 1, 'C022')\n",
      "(3, datetime.datetime(2022, 5, 21, 16, 46, 24), 1, '0004', '0003', 4.5, 15.5, 40.5, 1, 'C023')\n",
      "(4, datetime.datetime(2022, 5, 21, 16, 46, 52), 1, '0001', '0001', 3.5, 11.5, 31.5, 1, 'C001')\n",
      "(5, datetime.datetime(2022, 5, 21, 16, 47, 11), 1, '0004', '0000', 0.0, 20.0, 45.0, 0, 'C023')\n",
      "(6, datetime.datetime(2022, 5, 21, 16, 48, 27), 1, '0003', '0005', 6.0, 24.0, 54.0, 1, 'C020')\n",
      "(7, datetime.datetime(2022, 5, 21, 16, 54, 12), 2, '0002', '0001', 11.0, 49.0, 99.0, 1, 'C022')\n",
      "(8, datetime.datetime(2022, 5, 21, 17, 18, 5), 1, '0001', '0006', 3.5, 11.5, 31.5, 1, 'C002')\n",
      "(9, datetime.datetime(2022, 5, 21, 17, 21, 5), 1, '0010', '0006', 5.0, 15.0, 45.0, 1, 'C002')\n",
      "(10, datetime.datetime(2022, 5, 21, 17, 22), 1, '0008', '0007', 5.5, 14.5, 49.5, 1, 'C002')\n",
      "(11, datetime.datetime(2022, 5, 21, 17, 22, 22), 1, '0007', '0007', 5.0, 15.0, 45.0, 1, 'C002')\n",
      "(12, datetime.datetime(2022, 5, 21, 17, 22, 56), 1, '0002', '0007', 5.5, 24.5, 49.5, 1, 'C002')\n",
      "(13, datetime.datetime(2022, 5, 21, 17, 23, 15), 1, '0036', '0008', 5.0, 15.0, 45.0, 1, 'C003')\n",
      "(14, datetime.datetime(2022, 5, 21, 17, 23, 42), 1, '0044', '0008', 5.0, 20.0, 45.0, 1, 'C003')\n",
      "(15, datetime.datetime(2022, 5, 21, 17, 24, 7), 1, '0045', '0009', 4.5, 20.5, 40.5, 1, 'C003')\n",
      "(16, datetime.datetime(2022, 5, 21, 17, 24, 30), 1, '0049', '0009', 5.0, 20.0, 45.0, 1, 'C003')\n",
      "(17, datetime.datetime(2022, 5, 21, 17, 27, 7), 1, '0051', '0011', 10.0, 30.0, 90.0, 1, 'C004')\n",
      "(18, datetime.datetime(2022, 5, 21, 17, 27, 35), 1, '0052', '0012', 15.0, 45.0, 135.0, 1, 'C004')\n",
      "(19, datetime.datetime(2022, 5, 21, 17, 28, 6), 1, '0053', '0016', 15.5, 59.5, 139.5, 1, 'C004')\n",
      "(20, datetime.datetime(2022, 5, 21, 17, 28, 39), 1, '0054', '0018', 12.0, 28.0, 108.0, 1, 'C005')\n",
      "(21, datetime.datetime(2022, 5, 21, 17, 29, 1), 1, '0056', '0019', 12.0, 8.0, 108.0, 1, 'C006')\n",
      "(22, datetime.datetime(2022, 5, 21, 17, 29, 37), 1, '0055', '0020', 15.0, 35.0, 135.0, 1, 'C004')\n",
      "(23, datetime.datetime(2022, 5, 21, 17, 30, 6), 1, '0057', '0022', 15.0, 15.0, 135.0, 1, 'C005')\n",
      "(24, datetime.datetime(2022, 5, 21, 17, 30, 34), 1, '0058', '0024', 12.0, 28.0, 108.0, 1, 'C005')\n",
      "(25, datetime.datetime(2022, 5, 21, 17, 30, 54), 1, '0059', '0026', 15.0, 35.0, 135.0, 1, 'C006')\n",
      "(26, datetime.datetime(2022, 5, 21, 17, 31, 18), 1, '0061', '0029', 2.5, 2.5, 22.5, 1, 'C004')\n",
      "(27, datetime.datetime(2022, 5, 21, 17, 31, 36), 1, '0062', '0020', 5.0, 15.0, 45.0, 1, 'C005')\n"
     ]
    }
   ],
   "source": [
    "get_vieworder()"
   ]
  },
  {
   "cell_type": "markdown",
   "id": "4d646434",
   "metadata": {},
   "source": [
    "menu"
   ]
  },
  {
   "cell_type": "code",
   "execution_count": 4,
   "id": "728c45c8",
   "metadata": {
    "scrolled": true
   },
   "outputs": [
    {
     "name": "stdout",
     "output_type": "stream",
     "text": [
      "('0001', 'Espresso', 35, 20, 'Hot', 'Coffee')\n",
      "('0002', 'Espresso', 55, 25, 'Cold', 'Coffee')\n",
      "('0003', 'Espresso', 60, 30, 'Frappe', 'Coffee')\n",
      "('0004', 'Espresso Con Panna', 45, 25, 'Hot', 'Coffee')\n",
      "('0005', 'Espresso Con Panna', 65, 30, 'Cold', 'Coffee')\n",
      "('0006', 'Espresso Con Panna', 70, 35, 'Frappe', 'Coffee')\n",
      "('0007', 'Americano', 50, 30, 'Hot', 'Coffee')\n",
      "('0008', 'Americano', 55, 35, 'Cold', 'Coffee')\n",
      "('0009', 'Americano', 60, 40, 'Frappe', 'Coffee')\n",
      "('0010', 'Long Black', 50, 30, 'Hot', 'Coffee')\n",
      "('0011', 'Long Black', 55, 35, 'Cold', 'Coffee')\n",
      "('0012', 'Long Black', 60, 40, 'Frappe', 'Coffee')\n",
      "('0013', 'Latte', 50, 30, 'Hot', 'Coffee')\n",
      "('0014', 'Latte', 65, 35, 'Cold', 'Coffee')\n",
      "('0015', 'Latte', 70, 40, 'Frappe', 'Coffee')\n",
      "('0016', 'Piccolo', 50, 20, 'Hot', 'Coffee')\n",
      "('0017', 'Piccolo', 55, 25, 'Cold', 'Coffee')\n",
      "('0018', 'Piccolo', 60, 30, 'Frappe', 'Coffee')\n",
      "('0019', 'Cappuccino', 45, 25, 'Hot', 'Coffee')\n",
      "('0020', 'Cappuccino', 60, 30, 'Cold', 'Coffee')\n",
      "('0021', 'Cappuccino', 65, 35, 'Frappe', 'Coffee')\n",
      "('0022', 'Mocha', 50, 25, 'Hot', 'Coffee')\n",
      "('0023', 'Mocha', 60, 30, 'Cold', 'Coffee')\n",
      "('0024', 'Mocha', 70, 35, 'Frappe', 'Coffee')\n",
      "('0025', 'White Mocha', 55, 30, 'Hot', 'Coffee')\n",
      "('0026', 'White Mocha', 65, 35, 'Cold', 'Coffee')\n",
      "('0027', 'White Mocha', 75, 40, 'Frappe', 'Coffee')\n",
      "('0028', 'Macchiato', 50, 25, 'Hot', 'Coffee')\n",
      "('0029', 'Macchiato', 60, 30, 'Cold', 'Coffee')\n",
      "('0030', 'Macchiato', 70, 35, 'Frappe', 'Coffee')\n",
      "('0031', 'Caramel Macchiato', 55, 30, 'Hot', 'Coffee')\n",
      "('0032', 'Caramel Macchiato', 65, 35, 'Cold', 'Coffee')\n",
      "('0033', 'Caramel Macchiato', 75, 40, 'Frappe', 'Coffee')\n",
      "('0034', 'Italian soda', 50, 20, 'Cold', 'Coffee')\n",
      "('0035', 'Chocolate', 45, 25, 'Hot', 'Coffee')\n",
      "('0036', 'Chocolate', 50, 30, 'Cold', 'Coffee')\n",
      "('0037', 'Chocolate', 55, 35, 'Frappe', 'Coffee')\n",
      "('0038', 'Dark Chocolate', 50, 30, 'Hot', 'Milk-Chocolate')\n",
      "('0039', 'Dark Chocolate', 55, 35, 'Cold', 'Milk-Chocolate')\n",
      "('0040', 'Dark Chocolate', 60, 40, 'Frappe', 'Milk-Chocolate')\n",
      "('0042', 'Green Tea', 40, 15, 'Hot', 'Tea')\n",
      "('0043', 'Green Tea', 45, 20, 'Cold', 'Tea')\n",
      "('0044', 'Green Tea', 50, 25, 'Frappe', 'Tea')\n",
      "('0045', 'Milk Tea', 45, 20, 'Hot', 'Tea')\n",
      "('0046', 'Milk Tea', 50, 25, 'Cold', 'Tea')\n",
      "('0047', 'Milk Tea', 55, 30, 'Frappe', 'Tea')\n",
      "('0048', 'Thai Tea', 45, 20, 'Hot', 'Tea')\n",
      "('0049', 'Thai Tea', 50, 25, 'Cold', 'Tea')\n",
      "('0050', 'Thai Tea', 55, 30, 'Frappe', 'Tea')\n",
      "('0051', 'Mango Sticky Rice', 100, 60, 'Dessert', 'Dessert')\n",
      "('0052', 'Strawberry Pancake', 150, 90, 'Dessert', 'Dessert')\n",
      "('0053', 'Choc Banana Pancake', 155, 80, 'Dessert', 'Dessert')\n",
      "('0054', 'Macaron', 120, 80, 'Dessert', 'Dessert')\n",
      "('0055', 'Pudding', 150, 100, 'Dessert', 'Dessert')\n",
      "('0056', 'Butter Cake', 120, 100, 'Dessert', 'Dessert')\n",
      "('0057', 'Whole Wheat Bread', 150, 120, 'Dessert', 'Dessert')\n",
      "('0058', 'strawberry cheese pie', 120, 80, 'Dessert', 'Dessert')\n",
      "('0059', 'Blueberry Cheese Pie', 150, 100, 'Dessert', 'Dessert')\n",
      "('0060', 'Honey Toast', 150, 80, 'Dessert', 'Dessert')\n",
      "('0061', 'Toast', 25, 20, 'Dessert', 'Dessert')\n",
      "('0062', 'Waffle', 50, 30, 'Dessert', 'Dessert')\n",
      "('0063', 'Cheese cake', 125, 80, 'Dessert', 'Dessert')\n",
      "('0064', 'Custard Cake', 60, 40, 'Dessert', 'Dessert')\n",
      "('0065', 'Cookie', 150, 90, 'Dessert', 'Dessert')\n",
      "('0066', 'Brownie', 80, 50, 'Dessert', 'Dessert')\n",
      "('0067', 'Pancake', 40, 20, 'Dessert', 'Dessert')\n",
      "('0068', 'Banana Cake', 40, 20, 'Dessert', 'Dessert')\n",
      "('0069', 'Muffin', 90, 30, 'Dessert', 'Dessert')\n",
      "('0070', 'Roll Cake', 50, 30, 'Dessert', 'Dessert')\n",
      "('0071', 'Basque Cheesecake', 250, 100, 'Dessert', 'Dessert')\n",
      "('0073', 'Mango', 100, 80, 'Frappe', 'Smoothies')\n"
     ]
    }
   ],
   "source": [
    "get_viewmenu()"
   ]
  },
  {
   "cell_type": "code",
   "execution_count": 9,
   "id": "c04ceda0",
   "metadata": {},
   "outputs": [
    {
     "name": "stdout",
     "output_type": "stream",
     "text": [
      "('0000', 'No member', 'No member', 0, 0, 'no')\n",
      "('0001', 'จารุวรรณ', 'เหลืองสีนาค', 20, 5, 'หญิง')\n",
      "('0002', 'ศิรินทิพย์', 'ชัยชนะ', 14, 10, 'ชาย')\n",
      "('0003', 'ณัฐมน', 'สุขเกษม', 37, 14, 'หญิง')\n",
      "('0004', 'เจษฎา', 'กอวังตะโก', 31, 22, 'หญิง')\n",
      "('0005', 'จุฑาทิพย์', 'ชาญศิริ', 34, 13, 'หญิง')\n",
      "('0006', 'สุพรรษา', 'ประเสริฐสม', 30, 2, 'หญิง')\n",
      "('0007', 'นูรีซัน', 'สุขสันต์', 29, 3, 'หญิง')\n",
      "('0008', 'วลัยลักษณ์', 'สัตถาผล', 28, 1, 'หญิง')\n",
      "('0009', 'เบญจมาภรณ์', 'หมูนสี', 27, 8, 'หญิง')\n",
      "('0010', 'ฉันชนก', 'เชิญขวัญ', 26, 4, 'หญิง')\n",
      "('0011', 'ธันยพร', 'หะพันธ์', 25, 15, 'หญิง')\n",
      "('0012', 'อารีรัตน์', 'ศิริพันธ์', 24, 12, 'หญิง')\n",
      "('0013', 'สุนิสา', 'ศุขห่วง', 23, 3, 'หญิง')\n",
      "('0014', 'เกวลิน', 'จูเปาะ', 22, 11, 'หญิง')\n",
      "('0015', 'กัญญารัตน์', 'ประสพสุข', 21, 2, 'หญิง')\n",
      "('0016', 'จิรัชญา', 'เสนานุช', 20, 6, 'หญิง')\n",
      "('0017', 'พรรธิดา', 'สืบจันทร์', 19, 12, 'หญิง')\n",
      "('0018', 'จุฑาทิพย์', 'วัณเพชร', 17, 2, 'หญิง')\n",
      "('0019', 'อุสรา', 'เจ็กแตงพะเนา', 37, 5, 'หญิง')\n",
      "('0020', 'กัลยา', 'พานทอง', 31, 8, 'หญิง')\n",
      "('0021', 'รจนา', 'ขวัญเมือง', 34, 11, 'ชาย')\n",
      "('0022', 'กัณฑิมา', 'รามมีชัย', 30, 14, 'ชาย')\n",
      "('0023', 'กาญจนา', 'นาสร้อย', 29, 17, 'ชาย')\n",
      "('0024', 'พอฤทัย', 'ลาภผล', 28, 20, 'ชาย')\n",
      "('0025', 'วราภรณ์', 'แซ่ลิ่ม', 27, 11, 'ชาย')\n",
      "('0026', 'ธิดารัตน์', 'วงศ์เสน', 26, 2, 'หญิง')\n",
      "('0027', 'กรรณิการ์', 'คงอาษา', 25, 6, 'ชาย')\n",
      "('0028', 'แอนนา', 'สมบูรณ์สิงห์', 24, 23, 'ชาย')\n",
      "('0029', 'วริศรา', 'วงเวียน', 23, 35, 'ชาย')\n",
      "('0030', 'ภัสสร', 'ศรีน้ำเงิน', 17, 3, 'ชาย')\n"
     ]
    }
   ],
   "source": [
    "get_viewcustomer()"
   ]
  },
  {
   "cell_type": "markdown",
   "id": "a06ce6ae",
   "metadata": {},
   "source": [
    "#  Add order"
   ]
  },
  {
   "cell_type": "code",
   "execution_count": 42,
   "id": "61b5db40",
   "metadata": {
    "scrolled": true
   },
   "outputs": [
    {
     "name": "stdout",
     "output_type": "stream",
     "text": [
      "2022-05-21 17:27:07\n",
      "Menu ID 4number xxxx:0051\n",
      "Quantity:1\n",
      "price: 100\n",
      "name: Mango Sticky Rice\n",
      "cost: 60\n",
      "customer_id 4number xxxx:0011\n",
      "discount 10.0\n",
      "store_id:C004\n",
      "********************************\n",
      "customer ID 0011\n",
      "menu: Mango Sticky Rice\n",
      "Quantity 1\n",
      "Price 100\n",
      "Total before discount 100\n",
      "Discount 10.0\n",
      "Amount 90.0\n",
      "Point 1\n",
      "********************************\n",
      "Customer point: 1\n",
      "(17, datetime.datetime(2022, 5, 21, 17, 27, 7), 1, '0051', '0011', 10.0, 30.0, 90.0, 1, 'C004')\n",
      "more order? yes or noyes\n",
      "2022-05-21 17:27:35\n",
      "Menu ID 4number xxxx:0052\n",
      "Quantity:1\n",
      "price: 150\n",
      "name: Strawberry Pancake\n",
      "cost: 90\n",
      "customer_id 4number xxxx:0012\n",
      "discount 15.0\n",
      "store_id:C004\n",
      "********************************\n",
      "customer ID 0012\n",
      "menu: Strawberry Pancake\n",
      "Quantity 1\n",
      "Price 150\n",
      "Total before discount 150\n",
      "Discount 15.0\n",
      "Amount 135.0\n",
      "Point 1\n",
      "********************************\n",
      "Customer point: 1\n",
      "(18, datetime.datetime(2022, 5, 21, 17, 27, 35), 1, '0052', '0012', 15.0, 45.0, 135.0, 1, 'C004')\n",
      "more order? yes or noyes\n",
      "2022-05-21 17:28:06\n",
      "Menu ID 4number xxxx:0053\n",
      "Quantity:1\n",
      "price: 155\n",
      "name: Choc Banana Pancake\n",
      "cost: 80\n",
      "customer_id 4number xxxx:0016\n",
      "discount 15.5\n",
      "store_id:C004\n",
      "********************************\n",
      "customer ID 0016\n",
      "menu: Choc Banana Pancake\n",
      "Quantity 1\n",
      "Price 155\n",
      "Total before discount 155\n",
      "Discount 15.5\n",
      "Amount 139.5\n",
      "Point 1\n",
      "********************************\n",
      "Customer point: 1\n",
      "(19, datetime.datetime(2022, 5, 21, 17, 28, 6), 1, '0053', '0016', 15.5, 59.5, 139.5, 1, 'C004')\n",
      "more order? yes or noyes\n",
      "2022-05-21 17:28:39\n",
      "Menu ID 4number xxxx:0054\n",
      "Quantity:1\n",
      "price: 120\n",
      "name: Macaron\n",
      "cost: 80\n",
      "customer_id 4number xxxx:0018\n",
      "discount 12.0\n",
      "store_id:C005\n",
      "********************************\n",
      "customer ID 0018\n",
      "menu: Macaron\n",
      "Quantity 1\n",
      "Price 120\n",
      "Total before discount 120\n",
      "Discount 12.0\n",
      "Amount 108.0\n",
      "Point 1\n",
      "********************************\n",
      "Customer point: 1\n",
      "(20, datetime.datetime(2022, 5, 21, 17, 28, 39), 1, '0054', '0018', 12.0, 28.0, 108.0, 1, 'C005')\n",
      "more order? yes or noyes\n",
      "2022-05-21 17:29:01\n",
      "Menu ID 4number xxxx:0056\n",
      "Quantity:1\n",
      "price: 120\n",
      "name: Butter Cake\n",
      "cost: 100\n",
      "customer_id 4number xxxx:0019\n",
      "discount 12.0\n",
      "store_id:C006\n",
      "********************************\n",
      "customer ID 0019\n",
      "menu: Butter Cake\n",
      "Quantity 1\n",
      "Price 120\n",
      "Total before discount 120\n",
      "Discount 12.0\n",
      "Amount 108.0\n",
      "Point 1\n",
      "********************************\n",
      "Customer point: 1\n",
      "(21, datetime.datetime(2022, 5, 21, 17, 29, 1), 1, '0056', '0019', 12.0, 8.0, 108.0, 1, 'C006')\n",
      "more order? yes or noyes\n",
      "2022-05-21 17:29:37\n",
      "Menu ID 4number xxxx:0055\n",
      "Quantity:1\n",
      "price: 150\n",
      "name: Pudding\n",
      "cost: 100\n",
      "customer_id 4number xxxx:0020\n",
      "discount 15.0\n",
      "store_id:C004\n",
      "********************************\n",
      "customer ID 0020\n",
      "menu: Pudding\n",
      "Quantity 1\n",
      "Price 150\n",
      "Total before discount 150\n",
      "Discount 15.0\n",
      "Amount 135.0\n",
      "Point 1\n",
      "********************************\n",
      "Customer point: 1\n",
      "(22, datetime.datetime(2022, 5, 21, 17, 29, 37), 1, '0055', '0020', 15.0, 35.0, 135.0, 1, 'C004')\n",
      "more order? yes or noyes\n",
      "2022-05-21 17:30:06\n",
      "Menu ID 4number xxxx:0057\n",
      "Quantity:1\n",
      "price: 150\n",
      "name: Whole Wheat Bread\n",
      "cost: 120\n",
      "customer_id 4number xxxx:0022\n",
      "discount 15.0\n",
      "store_id:C005\n",
      "********************************\n",
      "customer ID 0022\n",
      "menu: Whole Wheat Bread\n",
      "Quantity 1\n",
      "Price 150\n",
      "Total before discount 150\n",
      "Discount 15.0\n",
      "Amount 135.0\n",
      "Point 1\n",
      "********************************\n",
      "Customer point: 1\n",
      "(23, datetime.datetime(2022, 5, 21, 17, 30, 6), 1, '0057', '0022', 15.0, 15.0, 135.0, 1, 'C005')\n",
      "more order? yes or noyes\n",
      "2022-05-21 17:30:34\n",
      "Menu ID 4number xxxx:0058\n",
      "Quantity:1\n",
      "price: 120\n",
      "name: strawberry cheese pie\n",
      "cost: 80\n",
      "customer_id 4number xxxx:0024\n",
      "discount 12.0\n",
      "store_id:C005\n",
      "********************************\n",
      "customer ID 0024\n",
      "menu: strawberry cheese pie\n",
      "Quantity 1\n",
      "Price 120\n",
      "Total before discount 120\n",
      "Discount 12.0\n",
      "Amount 108.0\n",
      "Point 1\n",
      "********************************\n",
      "Customer point: 1\n",
      "(24, datetime.datetime(2022, 5, 21, 17, 30, 34), 1, '0058', '0024', 12.0, 28.0, 108.0, 1, 'C005')\n",
      "more order? yes or noyes\n",
      "2022-05-21 17:30:54\n",
      "Menu ID 4number xxxx:0059\n",
      "Quantity:1\n",
      "price: 150\n",
      "name: Blueberry Cheese Pie\n",
      "cost: 100\n",
      "customer_id 4number xxxx:0026\n",
      "discount 15.0\n",
      "store_id:C006\n",
      "********************************\n",
      "customer ID 0026\n",
      "menu: Blueberry Cheese Pie\n",
      "Quantity 1\n",
      "Price 150\n",
      "Total before discount 150\n",
      "Discount 15.0\n",
      "Amount 135.0\n",
      "Point 1\n",
      "********************************\n",
      "Customer point: 1\n",
      "(25, datetime.datetime(2022, 5, 21, 17, 30, 54), 1, '0059', '0026', 15.0, 35.0, 135.0, 1, 'C006')\n",
      "more order? yes or noyes\n",
      "2022-05-21 17:31:18\n",
      "Menu ID 4number xxxx:0061\n",
      "Quantity:1\n",
      "price: 25\n",
      "name: Toast\n",
      "cost: 20\n",
      "customer_id 4number xxxx:0029\n",
      "discount 2.5\n",
      "store_id:C004\n",
      "********************************\n",
      "customer ID 0029\n",
      "menu: Toast\n",
      "Quantity 1\n",
      "Price 25\n",
      "Total before discount 25\n",
      "Discount 2.5\n",
      "Amount 22.5\n",
      "Point 1\n",
      "********************************\n",
      "Customer point: 1\n",
      "(26, datetime.datetime(2022, 5, 21, 17, 31, 18), 1, '0061', '0029', 2.5, 2.5, 22.5, 1, 'C004')\n",
      "more order? yes or noyes\n",
      "2022-05-21 17:31:36\n",
      "Menu ID 4number xxxx:0062\n",
      "Quantity:1\n",
      "price: 50\n",
      "name: Waffle\n",
      "cost: 30\n",
      "customer_id 4number xxxx:0020\n",
      "discount 5.0\n",
      "store_id:C005\n",
      "********************************\n",
      "customer ID 0020\n",
      "menu: Waffle\n",
      "Quantity 1\n",
      "Price 50\n",
      "Total before discount 50\n",
      "Discount 5.0\n",
      "Amount 45.0\n",
      "Point 1\n",
      "********************************\n",
      "Customer point: 2\n",
      "(27, datetime.datetime(2022, 5, 21, 17, 31, 36), 1, '0062', '0020', 5.0, 15.0, 45.0, 1, 'C005')\n",
      "more order? yes or nono\n"
     ]
    }
   ],
   "source": [
    "x='yes'\n",
    "while x.lower()=='yes':\n",
    "    from datetime import datetime\n",
    "    def get_datetime():\n",
    "        now = datetime.now()\n",
    "        current_time = now.strftime(\"%Y-%m-%d %H:%M:%S\") \n",
    "        print(current_time)\n",
    "        return (current_time)\n",
    "    datetime=get_datetime()\n",
    "    menu_id=get_menu()\n",
    "    quantity=int(input('Quantity:'))\n",
    "    price=get_menuprice(menu_id)\n",
    "    name=get_menuname(menu_id)\n",
    "    cost=get_cost(menu_id) \n",
    "    customer_id=get_member()\n",
    "    discount,order_point=get_discount(customer_id)\n",
    "    profit,amount=get_profit()\n",
    "    store_id=input('store_id:')\n",
    "    insert_order(datetime,quantity,menu_id,customer_id,discount,profit,amount,order_point,store_id)\n",
    "    print_slip()\n",
    "    get_customerpoint(customer_id)\n",
    "    get_viewlastorder()\n",
    "    x=input(\"more order? yes or no\")\n",
    "    while x!='yes' and x!='no':\n",
    "        x=input(\"more order? yes or no\")\n",
    "        \n",
    "    "
   ]
  },
  {
   "cell_type": "code",
   "execution_count": 23,
   "id": "d10f879d",
   "metadata": {},
   "outputs": [],
   "source": [
    "def insert_order(order_id,datetime,quantity,menu_id,customer_id,discount,profit,amount,order_point,store_id):\n",
    "    cursor = cnxn.cursor()\n",
    "    cursor.execute(\"INSERT INTO order_record \\\n",
    "    (order_id,Datetime,Quantity, Menu_id, Customer_id,Discount,Profit,Amount,Order_point,Store_id)\\\n",
    "    VALUES (?,?,?,?,?,?,?,?,?)\",(order_id,datetime,quantity,menu_id,customer_id,discount,profit,amount,order_point,store_id))\n",
    "    cnxn.commit()"
   ]
  },
  {
   "cell_type": "code",
   "execution_count": null,
   "id": "447d48d1",
   "metadata": {},
   "outputs": [],
   "source": []
  },
  {
   "cell_type": "markdown",
   "id": "5653b237",
   "metadata": {},
   "source": [
    "# Add menu"
   ]
  },
  {
   "cell_type": "code",
   "execution_count": 4,
   "id": "0984ff68",
   "metadata": {},
   "outputs": [],
   "source": [
    "def add_menu():\n",
    "    menu_id=input('Menu_id 4 digit:')\n",
    "    menu_name=input('Menu_name:')\n",
    "    menu_sellingPrice=int(input('Menu_SellingPrice int:'))\n",
    "    menu_cost=int(input('Menu_cost int:'))\n",
    "    menu_type=input('Menu_Type Drink: Hot/Cold/Frappe or Dessert:')\n",
    "    menu_categories=input('Coffee/Milk-Chocolate/Smoothies/Tea/Dessert')\n",
    "    cursor = cnxn.cursor()\n",
    "    cursor.execute(\"INSERT INTO menu\\\n",
    "    (Menu_id,Menu_name,Menu_SellingPrice,Menu_cost,Menu_Type,Menu_Categories)\\\n",
    "    VALUES (?,?,?,?,?,?)\",(menu_id,menu_name,menu_sellingPrice,menu_cost,menu_type,menu_categories))\n",
    "    cnxn.commit()\n",
    " "
   ]
  },
  {
   "cell_type": "code",
   "execution_count": 264,
   "id": "63033d2b",
   "metadata": {
    "scrolled": true
   },
   "outputs": [
    {
     "name": "stdout",
     "output_type": "stream",
     "text": [
      "Menu_id 4 digit:0073\n",
      "Menu_name:Mango\n",
      "Menu_SellingPrice int:100\n",
      "Menu_cost int:80\n",
      "Menu_Type Drink: Hot/Cold/Frappe or Dessert:Frappe\n",
      "Coffee/Milk-Chocolate/Smoothies/Tea/DessertSmoothies\n"
     ]
    }
   ],
   "source": [
    "add_menu()"
   ]
  },
  {
   "cell_type": "markdown",
   "id": "ae27ff69",
   "metadata": {},
   "source": [
    "# Add Store"
   ]
  },
  {
   "cell_type": "code",
   "execution_count": 5,
   "id": "369e4a89",
   "metadata": {},
   "outputs": [],
   "source": [
    "def add_store():\n",
    "    store_id=input('store_id 4 digit Cxxx:')\n",
    "    store_name=input('store_name:')\n",
    "    Store_province=input('Store_province:')\n",
    "    \n",
    "    cursor = cnxn.cursor()\n",
    "    cursor.execute(\"INSERT INTO store\\\n",
    "    (store_id,store_name,Store_province)\\\n",
    "    VALUES (?,?,?)\",(store_id,store_name,Store_province))\n",
    "    cnxn.commit()"
   ]
  },
  {
   "cell_type": "code",
   "execution_count": 125,
   "id": "67f31bb8",
   "metadata": {},
   "outputs": [
    {
     "name": "stdout",
     "output_type": "stream",
     "text": [
      "store_id 4 digit Cxxx:C030\n",
      "store_name:Coffee's บิ๊กซีบางใหญ่\n",
      "Store_province:นนทบุรี\n"
     ]
    }
   ],
   "source": [
    "add_store() #('C030', \"Coffee's บิ๊กซีบางใหญ่\", 'นนทบุรี')"
   ]
  },
  {
   "cell_type": "markdown",
   "id": "382816c0",
   "metadata": {},
   "source": [
    "# Add customer"
   ]
  },
  {
   "cell_type": "code",
   "execution_count": 115,
   "id": "23a9de7d",
   "metadata": {},
   "outputs": [],
   "source": [
    "def add_customer():\n",
    "    customer_id=input('customer_id 4 digit:')\n",
    "    Customer_firstname=input('Customer_firstname:')\n",
    "    Customer_lastname=input('Customer_lastname:')\n",
    "    Customer_age=int(input('Customer_age:'))\n",
    "    Customer_gender=input('Customer_gender:')\n",
    "                      \n",
    "    cursor = cnxn.cursor()\n",
    "    cursor.execute(\"INSERT INTO customer\\\n",
    "    (customer_id,Customer_firstname,Customer_lastname,Customer_age,Customer_gender)\\\n",
    "    VALUES (?,?,?,?,? )\",(customer_id,Customer_firstname,Customer_lastname,Customer_age,Customer_gender))\n",
    "    cnxn.commit()"
   ]
  },
  {
   "cell_type": "code",
   "execution_count": null,
   "id": "953f0fe7",
   "metadata": {},
   "outputs": [],
   "source": [
    "('0030', 'ภัสสร', 'ศรีน้ำเงิน', 17, 'ชาย', 2005)"
   ]
  },
  {
   "cell_type": "code",
   "execution_count": null,
   "id": "6b1a5ae2",
   "metadata": {},
   "outputs": [],
   "source": [
    "add_customer()"
   ]
  },
  {
   "cell_type": "markdown",
   "id": "199f0024",
   "metadata": {},
   "source": [
    "# Update menu"
   ]
  },
  {
   "cell_type": "markdown",
   "id": "b22d9f11",
   "metadata": {},
   "source": [
    "Menu Price"
   ]
  },
  {
   "cell_type": "code",
   "execution_count": 7,
   "id": "257f51bc",
   "metadata": {},
   "outputs": [],
   "source": [
    "def update_menuprice():\n",
    "    menu_id=input('Menu_id 4 digit:')\n",
    "    menu_oldsellingPrice=get_menuprice(menu_id)\n",
    "    menu_sellingPrice=int(input('Menu_SellingPrice int:'))\n",
    "    \n",
    "    \n",
    "     \n",
    "    cursor = cnxn.cursor()\n",
    "    cursor.execute(\"UPDATE menu \\\n",
    "                SET Menu_SellingPrice =? \\\n",
    "                WHERE Menu_SellingPrice =? \\\n",
    "                AND Menu_id =?;\"\\\n",
    "             ,(menu_sellingPrice,menu_oldsellingPrice,menu_id))\n",
    "    cnxn.commit()\n",
    "    print('New price is:',get_menuprice(menu_id))"
   ]
  },
  {
   "cell_type": "code",
   "execution_count": 45,
   "id": "fcbc330f",
   "metadata": {
    "scrolled": false
   },
   "outputs": [
    {
     "name": "stdout",
     "output_type": "stream",
     "text": [
      "Menu_id 4 digit:0073\n",
      "price: 100\n",
      "Menu_SellingPrice int:80\n",
      "price: 80\n",
      "New price is: 80\n"
     ]
    }
   ],
   "source": [
    "update_menuprice()"
   ]
  },
  {
   "cell_type": "markdown",
   "id": "81585870",
   "metadata": {},
   "source": [
    "Menu Name"
   ]
  },
  {
   "cell_type": "code",
   "execution_count": 8,
   "id": "b7f32ec9",
   "metadata": {},
   "outputs": [],
   "source": [
    "def update_Menuname():\n",
    "    menu_id=input('Menu_id 4 digit:')\n",
    "    menu_oldname=get_menuname(menu_id)\n",
    "    menu_name=input('Menu_name:')\n",
    "    \n",
    "     \n",
    "    cursor = cnxn.cursor()\n",
    "    cursor.execute(\"UPDATE menu \\\n",
    "                SET menu_name =? \\\n",
    "                WHERE menu_name =? \\\n",
    "                AND Menu_id =?;\"\\\n",
    "             ,(menu_name,menu_oldname,menu_id))\n",
    "    cnxn.commit()\n",
    "    print('New menu name is:',get_menuname(menu_id))"
   ]
  },
  {
   "cell_type": "markdown",
   "id": "81bc28f5",
   "metadata": {},
   "source": [
    "update_Menuname()"
   ]
  },
  {
   "cell_type": "markdown",
   "id": "3c14ee6f",
   "metadata": {},
   "source": [
    "# Menu cost"
   ]
  },
  {
   "cell_type": "code",
   "execution_count": 9,
   "id": "f564d7f5",
   "metadata": {},
   "outputs": [],
   "source": [
    "def update_menucost():\n",
    "    menu_id=input('Menu_id 4 digit:')\n",
    "    menu_oldcost = get_cost(menu_id)\n",
    "    menu_cost=int(input('Menu_cost int:')) \n",
    "    cursor = cnxn.cursor()\n",
    "    cursor.execute(\"UPDATE menu \\\n",
    "                SET Menu_cost =? \\\n",
    "                WHERE Menu_cost =? \\\n",
    "                AND Menu_id =?;\",(menu_cost,menu_oldcost,menu_id))\n",
    "    cnxn.commit()\n",
    "    print('New menu cost is:',get_cost(menu_id))"
   ]
  },
  {
   "cell_type": "code",
   "execution_count": 56,
   "id": "bf017c23",
   "metadata": {},
   "outputs": [
    {
     "name": "stdout",
     "output_type": "stream",
     "text": [
      "Menu_id 4 digit:0073\n",
      "cost: 100\n",
      "Menu_cost int:60\n",
      "cost: 60\n",
      "New menu cost is: 60\n"
     ]
    }
   ],
   "source": [
    "update_menucost()"
   ]
  },
  {
   "cell_type": "markdown",
   "id": "78def882",
   "metadata": {},
   "source": [
    "# Store"
   ]
  },
  {
   "cell_type": "markdown",
   "id": "17b90479",
   "metadata": {},
   "source": [
    "# Store name"
   ]
  },
  {
   "cell_type": "code",
   "execution_count": 10,
   "id": "75963c97",
   "metadata": {},
   "outputs": [],
   "source": [
    "\n",
    "def update_Storename():\n",
    "    store_id=get_store()\n",
    "    store_oldname=get_storename(store_id)\n",
    "    store_name=input('Store_name:')\n",
    "    \n",
    "     \n",
    "    cursor = cnxn.cursor()\n",
    "    cursor.execute(\"UPDATE Store \\\n",
    "                SET Store_name =? \\\n",
    "                WHERE Store_name =? \\\n",
    "                AND Store_id =?;\"\\\n",
    "             ,(store_name,store_oldname,store_id))\n",
    "    cnxn.commit()\n",
    "    print('New store name is',get_storename(store_id))"
   ]
  },
  {
   "cell_type": "code",
   "execution_count": 98,
   "id": "1de14f7a",
   "metadata": {},
   "outputs": [
    {
     "name": "stdout",
     "output_type": "stream",
     "text": [
      "'Store_id 4 digit Cxxx:'C20\n",
      "store_ID not in list\n",
      "Plaese Enter Store ID agian:C020\n",
      "name: Coffee's บิ๊กซีสุขาภิบาล31\n",
      "Store_name:Coffee's บิ๊กซีสุขาภิบาล3\n",
      "name: Coffee's บิ๊กซีสุขาภิบาล3\n",
      "New store name is Coffee's บิ๊กซีสุขาภิบาล3\n"
     ]
    }
   ],
   "source": [
    "update_Storename()"
   ]
  },
  {
   "cell_type": "code",
   "execution_count": 97,
   "id": "146d207a",
   "metadata": {
    "scrolled": true
   },
   "outputs": [
    {
     "name": "stdout",
     "output_type": "stream",
     "text": [
      "('C001', \"Coffee's เซ็นทรัลพระราม3\", 'กรุงเทพมหานคร')\n",
      "('C002', \"Coffee's เซ็นทรัลพระราม9\", 'กรุงเทพมหานคร')\n",
      "('C003', \"Coffee's Centralนครราชสีมา\", 'นครราชสีมา')\n",
      "('C004', \"Coffee's เซ็นทรัลศรีราชา\", 'ชลบุรี')\n",
      "('C005', \"Coffee's เซ็นทรัลอยุธยา\", 'พระนครศรีอยุธยา')\n",
      "('C006', \"Coffee's Centralมหาชัย\", 'สมุทรสาคร')\n",
      "('C007', \"Coffee's เซ็นทรัลเชียงใหม่\", 'เชียงใหม่')\n",
      "('C008', \"Coffee's UnitedCenter(สีลม)\", 'กรุงเทพมหานคร')\n",
      "('C009', \"Coffee's สยามเซ็นเตอร์\", 'กรุงเทพมหานคร')\n",
      "('C010', \"Coffee's เซ็นจูรี่อนุสาวรีย์\", 'กรุงเทพมหานคร')\n",
      "('C011', \"Coffee's CentralWestgateบางใหญ่\", 'กรุงเทพมหานคร')\n",
      "('C012', \"Coffee's เซ็นทรัลเวิลด์\", 'กรุงเทพมหานคร')\n",
      "('C013', \"Coffee's CenterOneอนุสาวรีย์ชัยสมรภูมิ\", 'กรุงเทพมหานคร')\n",
      "('C014', \"Coffee's Centralสุราษฎร์ธานี\", 'สุราษฎร์ธานี')\n",
      "('C015', \"Coffee's Centralนครศรีธรรมราช\", 'นครศรีธรรมราช')\n",
      "('C016', \"Coffee's เซ็นทรัลลาดพร้าวชั้นG\", 'กรุงเทพมหานคร')\n",
      "('C017', \"Coffee's บิ๊กซีศรีนครินทร์\", 'สมุทรปราการ')\n",
      "('C018', \"Coffee's บิ๊กซีพัทยาใต้\", 'ชลบุรี')\n",
      "('C019', \"Coffee's บิ๊กซีอยุธยา\", 'พระนครศรีอยุธยา')\n",
      "('C020', \"Coffee's บิ๊กซีสุขาภิบาล31\", 'กรุงเทพมหานคร')\n",
      "('C021', \"Coffee's บิ๊กซีพระราม4\", 'กรุงเทพมหานคร')\n",
      "('C022', \"Coffee's บิ๊กซีราชดำริ\", 'กรุงเทพมหานคร')\n",
      "('C023', \"Coffee's บิ๊กซีนครปฐม\", 'นครปฐม')\n",
      "('C024', \"Coffe's บิ๊กซีมหาชัย\", 'สมุทรสาคร')\n",
      "('C025', \"Coffee's บิ๊กซีสุขาภิบาล5\", 'กรุงเทพมหานคร')\n",
      "('C026', \"Coffee's บิ๊กซีเชียงราย2\", 'เชียงราย')\n",
      "('C027', \"Coffee's บิ๊กซีบางพลี\", 'สมุทรปราการ')\n",
      "('C028', \"Coffee's บิ๊กซีเพชรเกษมextra\", 'กรุงเทพมหานคร')\n",
      "('C029', \"Coffee's ทาวน์เซ็นเตอร์บิ๊กซีหัวหมาก\", 'กรุงเทพมหานคร')\n",
      "('C030', \"Coffee's บิ๊กซีบางใหญ่\", 'นนทบุรี')\n"
     ]
    }
   ],
   "source": [
    "get_viewstore()"
   ]
  },
  {
   "cell_type": "markdown",
   "id": "291ea0df",
   "metadata": {},
   "source": [
    "Store Province"
   ]
  },
  {
   "cell_type": "code",
   "execution_count": 11,
   "id": "b81b26d9",
   "metadata": {},
   "outputs": [],
   "source": [
    "\n",
    "def update_store_province():\n",
    "    store_id=get_store()\n",
    "    store_oldprovince=get_store_province(store_id)\n",
    "    store_province=input('Store_province:')\n",
    "    \n",
    "     \n",
    "    cursor = cnxn.cursor()\n",
    "    cursor.execute(\"UPDATE Store \\\n",
    "                SET Store_province =? \\\n",
    "                WHERE Store_province =? \\\n",
    "                AND Store_id =?;\"\n",
    "             ,(store_province,store_oldprovince,store_id))\n",
    "    cnxn.commit()\n",
    "    print('New store province is',get_store_province(store_id))"
   ]
  },
  {
   "cell_type": "code",
   "execution_count": 111,
   "id": "ae8db744",
   "metadata": {},
   "outputs": [
    {
     "name": "stdout",
     "output_type": "stream",
     "text": [
      "'Store_id 4 digit Cxxx:'กรุงเทพมหานคร\n",
      "store_ID not in list\n",
      "Plaese Enter Store ID agian:C020\n",
      "province: กทม.\n",
      "Store_province:กรุงเทพมหานคร\n",
      "province: กรุงเทพมหานคร\n",
      "New store province is กรุงเทพมหานคร\n"
     ]
    }
   ],
   "source": [
    "update_store_province()"
   ]
  },
  {
   "cell_type": "markdown",
   "id": "a7a3245c",
   "metadata": {},
   "source": [
    "# Update customer"
   ]
  },
  {
   "cell_type": "markdown",
   "id": "e4c1a6af",
   "metadata": {},
   "source": [
    "# First name"
   ]
  },
  {
   "cell_type": "code",
   "execution_count": 12,
   "id": "6d36f65b",
   "metadata": {},
   "outputs": [],
   "source": [
    "def update_cusfirstname():\n",
    "    customer_id=input('Customer ID 4 digits:')\n",
    "    cus_oldfirstname=get_cusfirstname(customer_id)\n",
    "    cus_firstname=input('Customer Firstname:')\n",
    "\n",
    "    cursor = cnxn.cursor()\n",
    "    cursor.execute(\"UPDATE customer \\\n",
    "                SET customer_firstname =? \\\n",
    "                WHERE customer_firstname =? \\\n",
    "                AND customer_id =?;\"\n",
    "             ,(cus_firstname,cus_oldfirstname,customer_id))\n",
    "    cnxn.commit()\n",
    "    print('New customer firstname  is',get_cusfirstname(customer_id))"
   ]
  },
  {
   "cell_type": "code",
   "execution_count": 135,
   "id": "bcbd97e8",
   "metadata": {
    "scrolled": true
   },
   "outputs": [
    {
     "name": "stdout",
     "output_type": "stream",
     "text": [
      "Customer ID 4 digits:0001\n",
      "จารุวัน\n",
      "Customer Firstname:จารุวรรณ\n",
      "จารุวรรณ\n",
      "New customer firstname  is จารุวรรณ\n"
     ]
    }
   ],
   "source": [
    "update_cusfirstname()"
   ]
  },
  {
   "cell_type": "markdown",
   "id": "0e6027c5",
   "metadata": {},
   "source": [
    "# Last name"
   ]
  },
  {
   "cell_type": "code",
   "execution_count": 13,
   "id": "1e2cfd31",
   "metadata": {},
   "outputs": [],
   "source": [
    "def update_cuslastname():\n",
    "    customer_id=input('Customer ID 4 digits:')\n",
    "    cus_oldlastname=get_cuslastname(customer_id)\n",
    "    cus_lastname=input('Customer Lastname:')\n",
    "\n",
    "    cursor = cnxn.cursor()\n",
    "    cursor.execute(\"UPDATE customer \\\n",
    "                SET customer_lastname =? \\\n",
    "                WHERE customer_lastname =? \\\n",
    "                AND customer_id =?;\"\n",
    "             ,(cus_lastname,cus_oldlastname,customer_id))\n",
    "    cnxn.commit()\n",
    "    print('New customer lastname  is',get_cuslastname(customer_id))"
   ]
  },
  {
   "cell_type": "code",
   "execution_count": 137,
   "id": "87b7562b",
   "metadata": {
    "scrolled": true
   },
   "outputs": [
    {
     "name": "stdout",
     "output_type": "stream",
     "text": [
      "Customer ID 4 digits:0001\n",
      "เหลืองสีนาค\n",
      "Customer Lastname:เหลืองสีนวล\n",
      "เหลืองสีนวล\n",
      "New customer lastname  is เหลืองสีนวล\n"
     ]
    }
   ],
   "source": [
    "update_cuslastname()"
   ]
  },
  {
   "cell_type": "markdown",
   "id": "7544a316",
   "metadata": {},
   "source": [
    "Update age"
   ]
  },
  {
   "cell_type": "code",
   "execution_count": 22,
   "id": "af1f983b",
   "metadata": {},
   "outputs": [],
   "source": [
    "def update_customer_age():\n",
    "    customer_id=input('Customer ID 4 digits:')\n",
    "    cus_oldage=get_customerage(customer_id)\n",
    "    cus_age=input('Customer age:')\n",
    "\n",
    "    cursor = cnxn.cursor()\n",
    "    cursor.execute(\"UPDATE customer \\\n",
    "                SET customer_age =? \\\n",
    "                WHERE customer_age =? \\\n",
    "                AND customer_id =?;\"\n",
    "             ,(cus_age,cus_oldage,customer_id))\n",
    "    cnxn.commit()\n",
    "    print('New customer age is',get_customerage(customer_id))\n"
   ]
  },
  {
   "cell_type": "code",
   "execution_count": 23,
   "id": "d2f6ce00",
   "metadata": {
    "scrolled": true
   },
   "outputs": [
    {
     "name": "stdout",
     "output_type": "stream",
     "text": [
      "Customer ID 4 digits:0001\n",
      "20\n",
      "Customer age:21\n",
      "21\n",
      "New customer age is 21\n"
     ]
    }
   ],
   "source": [
    "update_customer_age()"
   ]
  },
  {
   "cell_type": "code",
   "execution_count": 28,
   "id": "599b1f22",
   "metadata": {
    "scrolled": true
   },
   "outputs": [
    {
     "name": "stdout",
     "output_type": "stream",
     "text": [
      "('0000', 'No member', 'No member', 0, 'no')\n",
      "('0001', 'จารุวรรณ', 'เหลืองสีนวล', 21, 'หญิง')\n",
      "('0002', 'ศิรินทิพย์', 'ชัยชนะ', 14, 'ชาย')\n",
      "('0003', 'ณัฐมน', 'สุขเกษม', 37, 'หญิง')\n",
      "('0004', 'เจษฎา', 'กอวังตะโก', 31, 'หญิง')\n",
      "('0005', 'จุฑาทิพย์', 'ชาญศิริ', 34, 'หญิง')\n",
      "('0006', 'สุพรรษา', 'ประเสริฐสม', 30, 'หญิง')\n",
      "('0007', 'นูรีซัน', 'สุขสันต์', 29, 'หญิง')\n",
      "('0008', 'วลัยลักษณ์', 'สัตถาผล', 28, 'หญิง')\n",
      "('0009', 'เบญจมาภรณ์', 'หมูนสี', 27, 'หญิง')\n",
      "('0010', 'ฉันชนก', 'เชิญขวัญ', 26, 'หญิง')\n",
      "('0011', 'ธันยพร', 'หะพันธ์', 25, 'หญิง')\n",
      "('0012', 'อารีรัตน์', 'ศิริพันธ์', 24, 'หญิง')\n",
      "('0013', 'สุนิสา', 'ศุขห่วง', 23, 'หญิง')\n",
      "('0014', 'เกวลิน', 'จูเปาะ', 22, 'หญิง')\n",
      "('0015', 'กัญญารัตน์', 'ประสพสุข', 21, 'หญิง')\n",
      "('0016', 'จิรัชญา', 'เสนานุช', 20, 'หญิง')\n",
      "('0017', 'พรรธิดา', 'สืบจันทร์', 19, 'หญิง')\n",
      "('0018', 'จุฑาทิพย์', 'วัณเพชร', 17, 'หญิง')\n",
      "('0019', 'อุสรา', 'เจ็กแตงพะเนา', 37, 'หญิง')\n",
      "('0020', 'กัลยา', 'พานทอง', 31, 'หญิง')\n",
      "('0021', 'รจนา', 'ขวัญเมือง', 34, 'ชาย')\n",
      "('0022', 'กัณฑิมา', 'รามมีชัย', 30, 'ชาย')\n",
      "('0023', 'กาญจนา', 'นาสร้อย', 29, 'ชาย')\n",
      "('0024', 'พอฤทัย', 'ลาภผล', 28, 'ชาย')\n",
      "('0025', 'วราภรณ์', 'แซ่ลิ่ม', 27, 'ชาย')\n",
      "('0026', 'ธิดารัตน์', 'วงศ์เสน', 26, 'หญิง')\n",
      "('0027', 'กรรณิการ์', 'คงอาษา', 25, 'ชาย')\n",
      "('0028', 'แอนนา', 'สมบูรณ์สิงห์', 24, 'ชาย')\n",
      "('0029', 'วริศรา', 'วงเวียน', 23, 'ชาย')\n",
      "('0030', 'ภัสสร', 'ศรีน้ำเงิน', 17, 'ชาย')\n"
     ]
    }
   ],
   "source": [
    "get_viewcustomer()"
   ]
  },
  {
   "cell_type": "markdown",
   "id": "f2237c28",
   "metadata": {},
   "source": [
    "# Delete column Year of Birth"
   ]
  },
  {
   "cell_type": "code",
   "execution_count": 112,
   "id": "005c8b5f",
   "metadata": {},
   "outputs": [
    {
     "name": "stdout",
     "output_type": "stream",
     "text": [
      "('0000', 'No member', 'No member', 0, 'no')\n",
      "('0001', 'จารุวรรณ', 'เหลืองสีนวล', 21, 'หญิง')\n",
      "('0002', 'ศิรินทิพย์', 'ชัยชนะ', 14, 'ชาย')\n",
      "('0003', 'ณัฐมน', 'สุขเกษม', 37, 'หญิง')\n",
      "('0004', 'เจษฎา', 'กอวังตะโก', 31, 'หญิง')\n",
      "('0005', 'จุฑาทิพย์', 'ชาญศิริ', 34, 'หญิง')\n",
      "('0006', 'สุพรรษา', 'ประเสริฐสม', 30, 'หญิง')\n",
      "('0007', 'นูรีซัน', 'สุขสันต์', 29, 'หญิง')\n",
      "('0008', 'วลัยลักษณ์', 'สัตถาผล', 28, 'หญิง')\n",
      "('0009', 'เบญจมาภรณ์', 'หมูนสี', 27, 'หญิง')\n",
      "('0010', 'ฉันชนก', 'เชิญขวัญ', 26, 'หญิง')\n",
      "('0011', 'ธันยพร', 'หะพันธ์', 25, 'หญิง')\n",
      "('0012', 'อารีรัตน์', 'ศิริพันธ์', 24, 'หญิง')\n",
      "('0013', 'สุนิสา', 'ศุขห่วง', 23, 'หญิง')\n",
      "('0014', 'เกวลิน', 'จูเปาะ', 22, 'หญิง')\n",
      "('0015', 'กัญญารัตน์', 'ประสพสุข', 21, 'หญิง')\n",
      "('0016', 'จิรัชญา', 'เสนานุช', 20, 'หญิง')\n",
      "('0017', 'พรรธิดา', 'สืบจันทร์', 19, 'หญิง')\n",
      "('0018', 'จุฑาทิพย์', 'วัณเพชร', 17, 'หญิง')\n",
      "('0019', 'อุสรา', 'เจ็กแตงพะเนา', 37, 'หญิง')\n",
      "('0020', 'กัลยา', 'พานทอง', 31, 'หญิง')\n",
      "('0021', 'รจนา', 'ขวัญเมือง', 34, 'ชาย')\n",
      "('0022', 'กัณฑิมา', 'รามมีชัย', 30, 'ชาย')\n",
      "('0023', 'กาญจนา', 'นาสร้อย', 29, 'ชาย')\n",
      "('0024', 'พอฤทัย', 'ลาภผล', 28, 'ชาย')\n",
      "('0025', 'วราภรณ์', 'แซ่ลิ่ม', 27, 'ชาย')\n",
      "('0026', 'ธิดารัตน์', 'วงศ์เสน', 26, 'หญิง')\n",
      "('0027', 'กรรณิการ์', 'คงอาษา', 25, 'ชาย')\n",
      "('0028', 'แอนนา', 'สมบูรณ์สิงห์', 24, 'ชาย')\n",
      "('0029', 'วริศรา', 'วงเวียน', 23, 'ชาย')\n"
     ]
    }
   ],
   "source": [
    "cursor = cnxn.cursor()\n",
    "cursor.execute(\"ALTER TABLE customer \\\n",
    " DROP column yearofbirth;\")\n",
    "cnxn.commit()\n",
    "get_viewcustomer()"
   ]
  },
  {
   "cell_type": "markdown",
   "id": "ee23c0ec",
   "metadata": {},
   "source": [
    " # Create Year of Birth column"
   ]
  },
  {
   "cell_type": "code",
   "execution_count": 31,
   "id": "2f8a8223",
   "metadata": {
    "scrolled": true
   },
   "outputs": [
    {
     "name": "stdout",
     "output_type": "stream",
     "text": [
      "('0000', 'No member', 'No member', 0, 'no', 2022)\n",
      "('0001', 'จารุวรรณ', 'เหลืองสีนวล', 21, 'หญิง', 2001)\n",
      "('0002', 'ศิรินทิพย์', 'ชัยชนะ', 14, 'ชาย', 2008)\n",
      "('0003', 'ณัฐมน', 'สุขเกษม', 37, 'หญิง', 1985)\n",
      "('0004', 'เจษฎา', 'กอวังตะโก', 31, 'หญิง', 1991)\n",
      "('0005', 'จุฑาทิพย์', 'ชาญศิริ', 34, 'หญิง', 1988)\n",
      "('0006', 'สุพรรษา', 'ประเสริฐสม', 30, 'หญิง', 1992)\n",
      "('0007', 'นูรีซัน', 'สุขสันต์', 29, 'หญิง', 1993)\n",
      "('0008', 'วลัยลักษณ์', 'สัตถาผล', 28, 'หญิง', 1994)\n",
      "('0009', 'เบญจมาภรณ์', 'หมูนสี', 27, 'หญิง', 1995)\n",
      "('0010', 'ฉันชนก', 'เชิญขวัญ', 26, 'หญิง', 1996)\n",
      "('0011', 'ธันยพร', 'หะพันธ์', 25, 'หญิง', 1997)\n",
      "('0012', 'อารีรัตน์', 'ศิริพันธ์', 24, 'หญิง', 1998)\n",
      "('0013', 'สุนิสา', 'ศุขห่วง', 23, 'หญิง', 1999)\n",
      "('0014', 'เกวลิน', 'จูเปาะ', 22, 'หญิง', 2000)\n",
      "('0015', 'กัญญารัตน์', 'ประสพสุข', 21, 'หญิง', 2001)\n",
      "('0016', 'จิรัชญา', 'เสนานุช', 20, 'หญิง', 2002)\n",
      "('0017', 'พรรธิดา', 'สืบจันทร์', 19, 'หญิง', 2003)\n",
      "('0018', 'จุฑาทิพย์', 'วัณเพชร', 17, 'หญิง', 2005)\n",
      "('0019', 'อุสรา', 'เจ็กแตงพะเนา', 37, 'หญิง', 1985)\n",
      "('0020', 'กัลยา', 'พานทอง', 31, 'หญิง', 1991)\n",
      "('0021', 'รจนา', 'ขวัญเมือง', 34, 'ชาย', 1988)\n",
      "('0022', 'กัณฑิมา', 'รามมีชัย', 30, 'ชาย', 1992)\n",
      "('0023', 'กาญจนา', 'นาสร้อย', 29, 'ชาย', 1993)\n",
      "('0024', 'พอฤทัย', 'ลาภผล', 28, 'ชาย', 1994)\n",
      "('0025', 'วราภรณ์', 'แซ่ลิ่ม', 27, 'ชาย', 1995)\n",
      "('0026', 'ธิดารัตน์', 'วงศ์เสน', 26, 'หญิง', 1996)\n",
      "('0027', 'กรรณิการ์', 'คงอาษา', 25, 'ชาย', 1997)\n",
      "('0028', 'แอนนา', 'สมบูรณ์สิงห์', 24, 'ชาย', 1998)\n",
      "('0029', 'วริศรา', 'วงเวียน', 23, 'ชาย', 1999)\n",
      "('0030', 'ภัสสร', 'ศรีน้ำเงิน', 17, 'ชาย', 2005)\n"
     ]
    }
   ],
   "source": [
    "\n",
    "cursor = cnxn.cursor()\n",
    "cursor.execute(\"ALTER TABLE customer \\\n",
    "ADD COLUMN YearOfBirth int \\\n",
    "GENERATED ALWAYS AS (2022-Customer_age) STORED;\")\n",
    "cnxn.commit()\n",
    "get_viewcustomer()"
   ]
  },
  {
   "cell_type": "markdown",
   "id": "d29f3a53",
   "metadata": {},
   "source": [
    "# Analytics"
   ]
  },
  {
   "cell_type": "markdown",
   "id": "c2c4c76d",
   "metadata": {},
   "source": [
    "# View Royalty Customer"
   ]
  },
  {
   "cell_type": "code",
   "execution_count": 33,
   "id": "4f986223",
   "metadata": {
    "scrolled": false
   },
   "outputs": [
    {
     "name": "stdout",
     "output_type": "stream",
     "text": [
      "('0003', Decimal('3'))\n",
      "('0007', Decimal('3'))\n",
      "('0020', Decimal('2'))\n",
      "('0001', Decimal('2'))\n",
      "('0006', Decimal('2'))\n",
      "('0008', Decimal('2'))\n",
      "('0009', Decimal('2'))\n",
      "('0005', Decimal('1'))\n",
      "('0011', Decimal('1'))\n",
      "('0012', Decimal('1'))\n"
     ]
    }
   ],
   "source": [
    "get_royalty()"
   ]
  },
  {
   "cell_type": "markdown",
   "id": "a89df9c7",
   "metadata": {},
   "source": [
    "# Promotion for Royalty Customer favorite Menu"
   ]
  },
  {
   "cell_type": "code",
   "execution_count": 34,
   "id": "af026caf",
   "metadata": {
    "scrolled": true
   },
   "outputs": [
    {
     "name": "stdout",
     "output_type": "stream",
     "text": [
      "customer menu\n",
      "('0008', 'Americano', 1)\n",
      "('0007', 'Americano', 1)\n",
      "('0002', 'Espresso', 1)\n",
      "0007 \n",
      " None\n",
      "customer menu\n",
      "('0055', 'Pudding', 1)\n",
      "('0062', 'Waffle', 1)\n",
      "0020 \n",
      " None\n",
      "customer menu\n",
      "('0001', 'Espresso', 1)\n",
      "('0002', 'Espresso', 1)\n",
      "0001 \n",
      " None\n",
      "customer menu\n",
      "('0001', 'Espresso', 1)\n",
      "('0010', 'Long Black', 1)\n",
      "0006 \n",
      " None\n",
      "customer menu\n",
      "('0036', 'Chocolate', 1)\n",
      "('0044', 'Green Tea', 1)\n",
      "0008 \n",
      " None\n",
      "customer menu\n",
      "('0045', 'Milk Tea', 1)\n",
      "('0049', 'Thai Tea', 1)\n",
      "0009 \n",
      " None\n",
      "customer menu\n",
      "('0003', 'Espresso', 1)\n",
      "0005 \n",
      " None\n",
      "customer menu\n",
      "('0051', 'Mango Sticky Rice', 1)\n",
      "0011 \n",
      " None\n",
      "customer menu\n",
      "('0052', 'Strawberry Pancake', 1)\n",
      "0012 \n",
      " None\n",
      "customer menu\n",
      "('0061', 'Toast', 1)\n",
      "0029 \n",
      " None\n"
     ]
    }
   ],
   "source": [
    "fav_rayalty_menu()"
   ]
  },
  {
   "cell_type": "markdown",
   "id": "f2086c0f",
   "metadata": {},
   "source": [
    "# Top sale order by store"
   ]
  },
  {
   "cell_type": "code",
   "execution_count": 35,
   "id": "9d8d4421",
   "metadata": {
    "scrolled": false
   },
   "outputs": [
    {
     "name": "stdout",
     "output_type": "stream",
     "text": [
      "Revenue by Store\n",
      "('C004', \"Coffee's เซ็นทรัลศรีราชา\", 522.0)\n",
      "('C005', \"Coffee's เซ็นทรัลอยุธยา\", 396.0)\n",
      "('C006', \"Coffee's Centralมหาชัย\", 243.0)\n",
      "('C002', \"Coffee's เซ็นทรัลพระราม9\", 220.5)\n",
      "('C003', \"Coffee's Centralนครราชสีมา\", 175.5)\n",
      "('C023', \"Coffee's บิ๊กซีนครปฐม\", 135.0)\n",
      "('C022', \"Coffee's บิ๊กซีราชดำริ\", 130.5)\n",
      "('C020', \"Coffee's บิ๊กซีสุขาภิบาล3\", 54.0)\n",
      "('C001', \"Coffee's เซ็นทรัลพระราม3\", 31.5)\n"
     ]
    }
   ],
   "source": [
    "view_topsale_bystore()"
   ]
  },
  {
   "cell_type": "markdown",
   "id": "7ca09a46",
   "metadata": {},
   "source": [
    "# Best Seller Menu "
   ]
  },
  {
   "cell_type": "code",
   "execution_count": 44,
   "id": "122d1c4d",
   "metadata": {},
   "outputs": [],
   "source": [
    "def view_topsale_bymenu():\n",
    "    cursor = cnxn.cursor()\n",
    "    cursor.execute(\"SELECT order_record.menu_id,menu.menu_name,menu.menu_type,sum(quantity) as count FROM order_record  \\\n",
    "    INNER JOIN menu ON menu.menu_ID=order_record.menu_id \\\n",
    "    GROUP BY order_record.menu_id ORDER BY 4 DESC LIMIT 10\")\n",
    "    row = cursor.fetchone()\n",
    "    print (\"Best Seller Menu :\")\n",
    "    while row:        \n",
    "        print (row) \n",
    "        row = cursor.fetchone()\n",
    "\n",
    "  "
   ]
  },
  {
   "cell_type": "code",
   "execution_count": 45,
   "id": "2bd695f7",
   "metadata": {
    "scrolled": false
   },
   "outputs": [
    {
     "name": "stdout",
     "output_type": "stream",
     "text": [
      "Best Seller Menu :\n",
      "('0002', 'Espresso', 'Cold', Decimal('4'))\n",
      "('0001', 'Espresso', 'Hot', Decimal('3'))\n",
      "('0004', 'Espresso Con Panna', 'Hot', Decimal('2'))\n",
      "('0003', 'Espresso', 'Frappe', Decimal('1'))\n",
      "('0010', 'Long Black', 'Hot', Decimal('1'))\n",
      "('0008', 'Americano', 'Cold', Decimal('1'))\n",
      "('0007', 'Americano', 'Hot', Decimal('1'))\n",
      "('0036', 'Chocolate', 'Cold', Decimal('1'))\n",
      "('0044', 'Green Tea', 'Frappe', Decimal('1'))\n",
      "('0045', 'Milk Tea', 'Hot', Decimal('1'))\n"
     ]
    }
   ],
   "source": [
    "view_topsale_bymenu()"
   ]
  },
  {
   "cell_type": "markdown",
   "id": "6f62a13f",
   "metadata": {},
   "source": [
    "# Top profit by Store"
   ]
  },
  {
   "cell_type": "code",
   "execution_count": 46,
   "id": "4aad729f",
   "metadata": {},
   "outputs": [],
   "source": [
    "def view_topprofit_bystore():\n",
    "    cursor = cnxn.cursor()\n",
    "    cursor.execute(\"SELECT order_record.Store_id,store.Store_name,sum(profit) as Rev FROM order_record  \\\n",
    "    INNER JOIN store ON store.Store_ID=order_record.Store_id \\\n",
    "    GROUP BY order_record.Store_id ORDER BY 3 DESC\")\n",
    "    row = cursor.fetchone()\n",
    "    print (\"Profit by Store\")\n",
    "    while row:        \n",
    "        print (row) \n",
    "        row = cursor.fetchone()\n"
   ]
  },
  {
   "cell_type": "code",
   "execution_count": 47,
   "id": "b3ea70f2",
   "metadata": {},
   "outputs": [
    {
     "name": "stdout",
     "output_type": "stream",
     "text": [
      "Profit by Store\n",
      "('C004', \"Coffee's เซ็นทรัลศรีราชา\", 172.0)\n",
      "('C005', \"Coffee's เซ็นทรัลอยุธยา\", 86.0)\n",
      "('C002', \"Coffee's เซ็นทรัลพระราม9\", 80.5)\n",
      "('C003', \"Coffee's Centralนครราชสีมา\", 75.5)\n",
      "('C022', \"Coffee's บิ๊กซีราชดำริ\", 60.5)\n",
      "('C023', \"Coffee's บิ๊กซีนครปฐม\", 60.0)\n",
      "('C006', \"Coffee's Centralมหาชัย\", 43.0)\n",
      "('C020', \"Coffee's บิ๊กซีสุขาภิบาล3\", 24.0)\n",
      "('C001', \"Coffee's เซ็นทรัลพระราม3\", 11.5)\n"
     ]
    }
   ],
   "source": [
    "view_topprofit_bystore()"
   ]
  },
  {
   "cell_type": "code",
   "execution_count": 101,
   "id": "034aa9a4",
   "metadata": {},
   "outputs": [],
   "source": [
    "def view_menu_bystore():\n",
    "    cursor = cnxn.cursor()\n",
    "    cursor.execute(\"SELECT Store_id, menu_id   from order_record  order by store_id  \")\n",
    "    \n",
    "    row = cursor.fetchone()\n",
    "    print (\"Menu by Store\")\n",
    "    while row:        \n",
    "        print (row) \n",
    "        row = cursor.fetchone()"
   ]
  },
  {
   "cell_type": "code",
   "execution_count": 102,
   "id": "9fa86f57",
   "metadata": {
    "scrolled": true
   },
   "outputs": [
    {
     "name": "stdout",
     "output_type": "stream",
     "text": [
      "Menu by Store\n",
      "('C001', '0001')\n",
      "('C002', '0001')\n",
      "('C002', '0010')\n",
      "('C002', '0008')\n",
      "('C002', '0007')\n",
      "('C002', '0002')\n",
      "('C003', '0036')\n",
      "('C003', '0044')\n",
      "('C003', '0045')\n",
      "('C003', '0049')\n",
      "('C004', '0051')\n",
      "('C004', '0052')\n",
      "('C004', '0053')\n",
      "('C004', '0055')\n",
      "('C004', '0061')\n",
      "('C005', '0054')\n",
      "('C005', '0057')\n",
      "('C005', '0058')\n",
      "('C005', '0062')\n",
      "('C006', '0056')\n",
      "('C006', '0059')\n",
      "('C020', '0003')\n",
      "('C022', '0001')\n",
      "('C022', '0002')\n",
      "('C023', '0002')\n",
      "('C023', '0004')\n",
      "('C023', '0004')\n"
     ]
    }
   ],
   "source": [
    "view_menu_bystore()"
   ]
  },
  {
   "cell_type": "markdown",
   "id": "1cb1efa3",
   "metadata": {},
   "source": [
    "# ช่วงอายุของลูกค้า"
   ]
  },
  {
   "cell_type": "code",
   "execution_count": 99,
   "id": "51c57e2f",
   "metadata": {},
   "outputs": [],
   "source": [
    "def view_customer_agecount():\n",
    "    cursor = cnxn.cursor()\n",
    "    cursor.execute(\"SELECT customer_age , count(customer_age) as count \\\n",
    "                   from customer group by customer_age order by  count desc , customer_age \")\n",
    "    row = cursor.fetchone()\n",
    "    print (\"ช่วงอายุของลูกค้า\")\n",
    "    while row:        \n",
    "        print (row) \n",
    "        row = cursor.fetchone()  "
   ]
  },
  {
   "cell_type": "code",
   "execution_count": 100,
   "id": "9a6806a8",
   "metadata": {},
   "outputs": [
    {
     "name": "stdout",
     "output_type": "stream",
     "text": [
      "ช่วงอายุของลูกค้า\n",
      "(17, 2)\n",
      "(21, 2)\n",
      "(23, 2)\n",
      "(24, 2)\n",
      "(25, 2)\n",
      "(26, 2)\n",
      "(27, 2)\n",
      "(28, 2)\n",
      "(29, 2)\n",
      "(30, 2)\n",
      "(31, 2)\n",
      "(34, 2)\n",
      "(37, 2)\n",
      "(0, 1)\n",
      "(14, 1)\n",
      "(19, 1)\n",
      "(20, 1)\n",
      "(22, 1)\n"
     ]
    }
   ],
   "source": [
    "view_customer_agecount()"
   ]
  },
  {
   "cell_type": "markdown",
   "id": "5f0840a4",
   "metadata": {},
   "source": [
    "# Delete table row by id"
   ]
  },
  {
   "cell_type": "code",
   "execution_count": 122,
   "id": "f559a2d7",
   "metadata": {},
   "outputs": [],
   "source": [
    "def delete_Customer(customer_id):\n",
    "    cursor = cnxn.cursor()\n",
    "    cursor.execute(\"DELETE FROM Customer WHERE Customer_id = ?;\",(customer_id))\n",
    "    cnxn.commit()\n",
    "    print('Customer id =',customer_id,'was deleted')\n",
    "       \n",
    "def delete_Store(store_id):\n",
    "    cursor = cnxn.cursor()\n",
    "    cursor.execute(\"DELETE FROM Store WHERE Store_id =?;\",(store_id) )\n",
    "    cnxn.commit() \n",
    "    print('Store id =',store_id,'was deleted')\n",
    "\n",
    "def delete_Menuid(menu_id):\n",
    "    cursor = cnxn.cursor()\n",
    "    cursor.execute(\"DELETE FROM Menu WHERE Menu_id =?;\",(menu_id))\n",
    "    cnxn.commit()\n",
    "    print('Menu id =',menu_id,'was deleted')\n"
   ]
  },
  {
   "cell_type": "code",
   "execution_count": 117,
   "id": "8e8098a5",
   "metadata": {},
   "outputs": [
    {
     "name": "stdout",
     "output_type": "stream",
     "text": [
      "('0000', 'No member', 'No member', 0, 'no')\n",
      "('0001', 'จารุวรรณ', 'เหลืองสีนวล', 21, 'หญิง')\n",
      "('0002', 'ศิรินทิพย์', 'ชัยชนะ', 14, 'ชาย')\n",
      "('0003', 'ณัฐมน', 'สุขเกษม', 37, 'หญิง')\n",
      "('0004', 'เจษฎา', 'กอวังตะโก', 31, 'หญิง')\n",
      "('0005', 'จุฑาทิพย์', 'ชาญศิริ', 34, 'หญิง')\n",
      "('0006', 'สุพรรษา', 'ประเสริฐสม', 30, 'หญิง')\n",
      "('0007', 'นูรีซัน', 'สุขสันต์', 29, 'หญิง')\n",
      "('0008', 'วลัยลักษณ์', 'สัตถาผล', 28, 'หญิง')\n",
      "('0009', 'เบญจมาภรณ์', 'หมูนสี', 27, 'หญิง')\n",
      "('0010', 'ฉันชนก', 'เชิญขวัญ', 26, 'หญิง')\n",
      "('0011', 'ธันยพร', 'หะพันธ์', 25, 'หญิง')\n",
      "('0012', 'อารีรัตน์', 'ศิริพันธ์', 24, 'หญิง')\n",
      "('0013', 'สุนิสา', 'ศุขห่วง', 23, 'หญิง')\n",
      "('0014', 'เกวลิน', 'จูเปาะ', 22, 'หญิง')\n",
      "('0015', 'กัญญารัตน์', 'ประสพสุข', 21, 'หญิง')\n",
      "('0016', 'จิรัชญา', 'เสนานุช', 20, 'หญิง')\n",
      "('0017', 'พรรธิดา', 'สืบจันทร์', 19, 'หญิง')\n",
      "('0018', 'จุฑาทิพย์', 'วัณเพชร', 17, 'หญิง')\n",
      "('0019', 'อุสรา', 'เจ็กแตงพะเนา', 37, 'หญิง')\n",
      "('0020', 'กัลยา', 'พานทอง', 31, 'หญิง')\n",
      "('0021', 'รจนา', 'ขวัญเมือง', 34, 'ชาย')\n",
      "('0022', 'กัณฑิมา', 'รามมีชัย', 30, 'ชาย')\n",
      "('0023', 'กาญจนา', 'นาสร้อย', 29, 'ชาย')\n",
      "('0024', 'พอฤทัย', 'ลาภผล', 28, 'ชาย')\n",
      "('0025', 'วราภรณ์', 'แซ่ลิ่ม', 27, 'ชาย')\n",
      "('0026', 'ธิดารัตน์', 'วงศ์เสน', 26, 'หญิง')\n",
      "('0027', 'กรรณิการ์', 'คงอาษา', 25, 'ชาย')\n",
      "('0028', 'แอนนา', 'สมบูรณ์สิงห์', 24, 'ชาย')\n",
      "('0029', 'วริศรา', 'วงเวียน', 23, 'ชาย')\n",
      "('0030', 'ภัสสร', 'ศรีน้ำเงิน', 17, 'ชาย')\n"
     ]
    }
   ],
   "source": [
    "get_viewcustomer()"
   ]
  },
  {
   "cell_type": "markdown",
   "id": "c50d723f",
   "metadata": {},
   "source": [
    "# Delete Customer"
   ]
  },
  {
   "cell_type": "code",
   "execution_count": 106,
   "id": "a96522a9",
   "metadata": {},
   "outputs": [
    {
     "name": "stdout",
     "output_type": "stream",
     "text": [
      "Customer id = 0030 was deleted\n"
     ]
    }
   ],
   "source": [
    "delete_Customer('0030') #('0030', 'ภัสสร', 'ศรีน้ำเงิน', 17, 'ชาย'  )"
   ]
  },
  {
   "cell_type": "code",
   "execution_count": 116,
   "id": "4c2acdd6",
   "metadata": {},
   "outputs": [
    {
     "name": "stdout",
     "output_type": "stream",
     "text": [
      "customer_id 4 digit:0030\n",
      "Customer_firstname:ภัสสร\n",
      "Customer_lastname:ศรีน้ำเงิน\n",
      "Customer_age:17\n",
      "Customer_gender:ชาย\n"
     ]
    }
   ],
   "source": [
    "add_customer()"
   ]
  },
  {
   "cell_type": "markdown",
   "id": "15317a8e",
   "metadata": {},
   "source": [
    "# Delete Store"
   ]
  },
  {
   "cell_type": "code",
   "execution_count": 119,
   "id": "172b77df",
   "metadata": {},
   "outputs": [],
   "source": [
    "def delete_Store():\n",
    "    cursor = cnxn.cursor()\n",
    "    cursor.execute(\"DELETE FROM Store WHERE Store_id =?;\",(store_id) )\n",
    "    cnxn.commit() \n",
    "    print('Store id =',store_id,'was deleted')"
   ]
  },
  {
   "cell_type": "code",
   "execution_count": 126,
   "id": "f192a33a",
   "metadata": {
    "scrolled": true
   },
   "outputs": [
    {
     "name": "stdout",
     "output_type": "stream",
     "text": [
      "('C001', \"Coffee's เซ็นทรัลพระราม3\", 'กรุงเทพมหานคร')\n",
      "('C002', \"Coffee's เซ็นทรัลพระราม9\", 'กรุงเทพมหานคร')\n",
      "('C003', \"Coffee's Centralนครราชสีมา\", 'นครราชสีมา')\n",
      "('C004', \"Coffee's เซ็นทรัลศรีราชา\", 'ชลบุรี')\n",
      "('C005', \"Coffee's เซ็นทรัลอยุธยา\", 'พระนครศรีอยุธยา')\n",
      "('C006', \"Coffee's Centralมหาชัย\", 'สมุทรสาคร')\n",
      "('C007', \"Coffee's เซ็นทรัลเชียงใหม่\", 'เชียงใหม่')\n",
      "('C008', \"Coffee's UnitedCenter(สีลม)\", 'กรุงเทพมหานคร')\n",
      "('C009', \"Coffee's สยามเซ็นเตอร์\", 'กรุงเทพมหานคร')\n",
      "('C010', \"Coffee's เซ็นจูรี่อนุสาวรีย์\", 'กรุงเทพมหานคร')\n",
      "('C011', \"Coffee's CentralWestgateบางใหญ่\", 'กรุงเทพมหานคร')\n",
      "('C012', \"Coffee's เซ็นทรัลเวิลด์\", 'กรุงเทพมหานคร')\n",
      "('C013', \"Coffee's CenterOneอนุสาวรีย์ชัยสมรภูมิ\", 'กรุงเทพมหานคร')\n",
      "('C014', \"Coffee's Centralสุราษฎร์ธานี\", 'สุราษฎร์ธานี')\n",
      "('C015', \"Coffee's Centralนครศรีธรรมราช\", 'นครศรีธรรมราช')\n",
      "('C016', \"Coffee's เซ็นทรัลลาดพร้าวชั้นG\", 'กรุงเทพมหานคร')\n",
      "('C017', \"Coffee's บิ๊กซีศรีนครินทร์\", 'สมุทรปราการ')\n",
      "('C018', \"Coffee's บิ๊กซีพัทยาใต้\", 'ชลบุรี')\n",
      "('C019', \"Coffee's บิ๊กซีอยุธยา\", 'พระนครศรีอยุธยา')\n",
      "('C020', \"Coffee's บิ๊กซีสุขาภิบาล3\", 'กรุงเทพมหานคร')\n",
      "('C021', \"Coffee's บิ๊กซีพระราม4\", 'กรุงเทพมหานคร')\n",
      "('C022', \"Coffee's บิ๊กซีราชดำริ\", 'กรุงเทพมหานคร')\n",
      "('C023', \"Coffee's บิ๊กซีนครปฐม\", 'นครปฐม')\n",
      "('C024', \"Coffe's บิ๊กซีมหาชัย\", 'สมุทรสาคร')\n",
      "('C025', \"Coffee's บิ๊กซีสุขาภิบาล5\", 'กรุงเทพมหานคร')\n",
      "('C026', \"Coffee's บิ๊กซีเชียงราย2\", 'เชียงราย')\n",
      "('C027', \"Coffee's บิ๊กซีบางพลี\", 'สมุทรปราการ')\n",
      "('C028', \"Coffee's บิ๊กซีเพชรเกษมextra\", 'กรุงเทพมหานคร')\n",
      "('C029', \"Coffee's ทาวน์เซ็นเตอร์บิ๊กซีหัวหมาก\", 'กรุงเทพมหานคร')\n",
      "('C030', \"Coffee's บิ๊กซีบางใหญ่\", 'นนทบุรี')\n"
     ]
    }
   ],
   "source": [
    "get_viewstore()"
   ]
  },
  {
   "cell_type": "code",
   "execution_count": 123,
   "id": "3893a9af",
   "metadata": {
    "scrolled": true
   },
   "outputs": [
    {
     "name": "stdout",
     "output_type": "stream",
     "text": [
      "Store id = C030 was deleted\n"
     ]
    }
   ],
   "source": [
    "delete_Store('C030') #('C030', \"Coffee's บิ๊กซีบางใหญ่\", 'นนทบุรี')"
   ]
  },
  {
   "cell_type": "markdown",
   "id": "8e292977",
   "metadata": {},
   "source": [
    "# Delete Menu"
   ]
  },
  {
   "cell_type": "code",
   "execution_count": 130,
   "id": "3794f58e",
   "metadata": {},
   "outputs": [
    {
     "name": "stdout",
     "output_type": "stream",
     "text": [
      "('0001', 'Espresso', 35, 20, 'Hot', 'Coffee')\n",
      "('0002', 'Espresso', 55, 25, 'Cold', 'Coffee')\n",
      "('0003', 'Espresso', 60, 30, 'Frappe', 'Coffee')\n",
      "('0004', 'Espresso Con Panna', 45, 25, 'Hot', 'Coffee')\n",
      "('0005', 'Espresso Con Panna', 65, 30, 'Cold', 'Coffee')\n",
      "('0006', 'Espresso Con Panna', 70, 35, 'Frappe', 'Coffee')\n",
      "('0007', 'Americano', 50, 30, 'Hot', 'Coffee')\n",
      "('0008', 'Americano', 55, 35, 'Cold', 'Coffee')\n",
      "('0009', 'Americano', 60, 40, 'Frappe', 'Coffee')\n",
      "('0010', 'Long Black', 50, 30, 'Hot', 'Coffee')\n",
      "('0011', 'Long Black', 55, 35, 'Cold', 'Coffee')\n",
      "('0012', 'Long Black', 60, 40, 'Frappe', 'Coffee')\n",
      "('0013', 'Latte', 50, 30, 'Hot', 'Coffee')\n",
      "('0014', 'Latte', 65, 35, 'Cold', 'Coffee')\n",
      "('0015', 'Latte', 70, 40, 'Frappe', 'Coffee')\n",
      "('0016', 'Piccolo', 50, 20, 'Hot', 'Coffee')\n",
      "('0017', 'Piccolo', 55, 25, 'Cold', 'Coffee')\n",
      "('0018', 'Piccolo', 60, 30, 'Frappe', 'Coffee')\n",
      "('0019', 'Cappuccino', 45, 25, 'Hot', 'Coffee')\n",
      "('0020', 'Cappuccino', 60, 30, 'Cold', 'Coffee')\n",
      "('0021', 'Cappuccino', 65, 35, 'Frappe', 'Coffee')\n",
      "('0022', 'Mocha', 50, 25, 'Hot', 'Coffee')\n",
      "('0023', 'Mocha', 60, 30, 'Cold', 'Coffee')\n",
      "('0024', 'Mocha', 70, 35, 'Frappe', 'Coffee')\n",
      "('0025', 'White Mocha', 55, 30, 'Hot', 'Coffee')\n",
      "('0026', 'White Mocha', 65, 35, 'Cold', 'Coffee')\n",
      "('0027', 'White Mocha', 75, 40, 'Frappe', 'Coffee')\n",
      "('0028', 'Macchiato', 50, 25, 'Hot', 'Coffee')\n",
      "('0029', 'Macchiato', 60, 30, 'Cold', 'Coffee')\n",
      "('0030', 'Macchiato', 70, 35, 'Frappe', 'Coffee')\n",
      "('0031', 'Caramel Macchiato', 55, 30, 'Hot', 'Coffee')\n",
      "('0032', 'Caramel Macchiato', 65, 35, 'Cold', 'Coffee')\n",
      "('0033', 'Caramel Macchiato', 75, 40, 'Frappe', 'Coffee')\n",
      "('0034', 'Italian soda', 50, 20, 'Cold', 'Coffee')\n",
      "('0035', 'Chocolate', 45, 25, 'Hot', 'Coffee')\n",
      "('0036', 'Chocolate', 50, 30, 'Cold', 'Coffee')\n",
      "('0037', 'Chocolate', 55, 35, 'Frappe', 'Coffee')\n",
      "('0038', 'Dark Chocolate', 50, 30, 'Hot', 'Milk-Chocolate')\n",
      "('0039', 'Dark Chocolate', 55, 35, 'Cold', 'Milk-Chocolate')\n",
      "('0040', 'Dark Chocolate', 60, 40, 'Frappe', 'Milk-Chocolate')\n",
      "('0042', 'Green Tea', 40, 15, 'Hot', 'Tea')\n",
      "('0043', 'Green Tea', 45, 20, 'Cold', 'Tea')\n",
      "('0044', 'Green Tea', 50, 25, 'Frappe', 'Tea')\n",
      "('0045', 'Milk Tea', 45, 20, 'Hot', 'Tea')\n",
      "('0046', 'Milk Tea', 50, 25, 'Cold', 'Tea')\n",
      "('0047', 'Milk Tea', 55, 30, 'Frappe', 'Tea')\n",
      "('0048', 'Thai Tea', 45, 20, 'Hot', 'Tea')\n",
      "('0049', 'Thai Tea', 50, 25, 'Cold', 'Tea')\n",
      "('0050', 'Thai Tea', 55, 30, 'Frappe', 'Tea')\n",
      "('0051', 'Mango Sticky Rice', 100, 60, 'Dessert', 'Dessert')\n",
      "('0052', 'Strawberry Pancake', 150, 90, 'Dessert', 'Dessert')\n",
      "('0053', 'Choc Banana Pancake', 155, 80, 'Dessert', 'Dessert')\n",
      "('0054', 'Macaron', 120, 80, 'Dessert', 'Dessert')\n",
      "('0055', 'Pudding', 150, 100, 'Dessert', 'Dessert')\n",
      "('0056', 'Butter Cake', 120, 100, 'Dessert', 'Dessert')\n",
      "('0057', 'Whole Wheat Bread', 150, 120, 'Dessert', 'Dessert')\n",
      "('0058', 'strawberry cheese pie', 120, 80, 'Dessert', 'Dessert')\n",
      "('0059', 'Blueberry Cheese Pie', 150, 100, 'Dessert', 'Dessert')\n",
      "('0060', 'Honey Toast', 150, 80, 'Dessert', 'Dessert')\n",
      "('0061', 'Toast', 25, 20, 'Dessert', 'Dessert')\n",
      "('0062', 'Waffle', 50, 30, 'Dessert', 'Dessert')\n",
      "('0063', 'Cheese cake', 125, 80, 'Dessert', 'Dessert')\n",
      "('0064', 'Custard Cake', 60, 40, 'Dessert', 'Dessert')\n",
      "('0065', 'Cookie', 150, 90, 'Dessert', 'Dessert')\n",
      "('0066', 'Brownie', 80, 50, 'Dessert', 'Dessert')\n",
      "('0067', 'Pancake', 40, 20, 'Dessert', 'Dessert')\n",
      "('0068', 'Banana Cake', 40, 20, 'Dessert', 'Dessert')\n",
      "('0069', 'Muffin', 90, 30, 'Dessert', 'Dessert')\n",
      "('0070', 'Roll Cake', 50, 30, 'Dessert', 'Dessert')\n",
      "('0071', 'Basque Cheesecake', 250, 100, 'Dessert', 'Dessert')\n",
      "('0073', 'Mango', 80, 60, 'Frappe', 'Smoothies')\n"
     ]
    }
   ],
   "source": [
    "get_viewmenu()"
   ]
  },
  {
   "cell_type": "code",
   "execution_count": 128,
   "id": "3f1ff0b7",
   "metadata": {},
   "outputs": [
    {
     "name": "stdout",
     "output_type": "stream",
     "text": [
      "Menu id = 0073 was deleted\n"
     ]
    }
   ],
   "source": [
    "delete_Menuid('0073') #('0073', 'Mango', 80, 60, 'Frappe', 'Smoothies')\n",
    " "
   ]
  },
  {
   "cell_type": "code",
   "execution_count": 129,
   "id": "3e64b8cd",
   "metadata": {},
   "outputs": [
    {
     "name": "stdout",
     "output_type": "stream",
     "text": [
      "Menu_id 4 digit:0073\n",
      "Menu_name:Mango\n",
      "Menu_SellingPrice int:80\n",
      "Menu_cost int:60\n",
      "Menu_Type Drink: Hot/Cold/Frappe or Dessert:Frappe\n",
      "Coffee/Milk-Chocolate/Smoothies/Tea/DessertSmoothies\n"
     ]
    }
   ],
   "source": [
    "add_menu()"
   ]
  },
  {
   "cell_type": "code",
   "execution_count": null,
   "id": "a07d4d9a",
   "metadata": {},
   "outputs": [],
   "source": []
  }
 ],
 "metadata": {
  "kernelspec": {
   "display_name": "Python 3 (ipykernel)",
   "language": "python",
   "name": "python3"
  },
  "language_info": {
   "codemirror_mode": {
    "name": "ipython",
    "version": 3
   },
   "file_extension": ".py",
   "mimetype": "text/x-python",
   "name": "python",
   "nbconvert_exporter": "python",
   "pygments_lexer": "ipython3",
   "version": "3.9.7"
  }
 },
 "nbformat": 4,
 "nbformat_minor": 5
}
