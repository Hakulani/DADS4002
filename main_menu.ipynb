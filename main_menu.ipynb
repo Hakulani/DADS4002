{
 "cells": [
  {
   "cell_type": "code",
   "execution_count": 1,
   "id": "b81b2a42",
   "metadata": {},
   "outputs": [
    {
     "name": "stdout",
     "output_type": "stream",
     "text": [
      "Requirement already satisfied: pyodbc in c:\\users\\witsaruw\\anaconda3\\lib\\site-packages (4.0.0-unsupported)\n",
      "Note: you may need to restart the kernel to use updated packages.\n"
     ]
    }
   ],
   "source": [
    "pip install pyodbc"
   ]
  },
  {
   "cell_type": "code",
   "execution_count": 2,
   "id": "e1b663ba",
   "metadata": {},
   "outputs": [],
   "source": [
    "import pyodbc"
   ]
  },
  {
   "cell_type": "code",
   "execution_count": 8,
   "id": "a6dda06c",
   "metadata": {},
   "outputs": [],
   "source": [
    "con_string = 'driver=MySQL ODBC 8.0 Unicode Driver;server=127.0.0.1;database=cafe;uid=root;pwd=Acpz5999'"
   ]
  },
  {
   "cell_type": "code",
   "execution_count": 23,
   "id": "9b837c09",
   "metadata": {},
   "outputs": [],
   "source": [
    "cnxn = pyodbc.connect(con_string)\n"
   ]
  },
  {
   "cell_type": "markdown",
   "id": "5b4f2d29",
   "metadata": {},
   "source": [
    "Metadata Discovery"
   ]
  },
  {
   "cell_type": "markdown",
   "id": "d375af47",
   "metadata": {},
   "source": [
    "Select"
   ]
  },
  {
   "cell_type": "markdown",
   "id": "3f5460da",
   "metadata": {},
   "source": [
    "Insert"
   ]
  },
  {
   "cell_type": "markdown",
   "id": "862c9ebd",
   "metadata": {},
   "source": [
    "Updbate and Delete"
   ]
  },
  {
   "cell_type": "code",
   "execution_count": null,
   "id": "f6c60dcb",
   "metadata": {},
   "outputs": [],
   "source": [
    "pip install pyodbc"
   ]
  },
  {
   "cell_type": "code",
   "execution_count": 1,
   "id": "93592765",
   "metadata": {},
   "outputs": [],
   "source": [
    "import pyodbc\n",
    "cnxn = pyodbc.connect('driver=MySQL ODBC 8.0 Unicode Driver;server=127.0.0.1;database=cafe;uid=root;pwd=Acpz5999')"
   ]
  },
  {
   "cell_type": "code",
   "execution_count": 21,
   "id": "791488ef",
   "metadata": {},
   "outputs": [
    {
     "name": "stdout",
     "output_type": "stream",
     "text": [
      "(1, datetime.datetime(2022, 1, 2, 0, 0), 2, '0001', '0001', 7.0, 23.0, 63.0, 1, 'C023')\n",
      "(2, datetime.datetime(2022, 1, 22, 12, 0), 1, '0003', '0002', 6.0, 24.0, 54.0, 1, 'C001')\n",
      "(3, datetime.datetime(2022, 5, 16, 13, 0), 1, '0003', '0004', 6.0, 24.0, 54.0, 1, 'C022')\n",
      "(4, datetime.datetime(2022, 5, 16, 14, 0), 1, '0005', '0006', 6.5, 28.5, 58.5, 1, 'C025')\n",
      "(5, datetime.datetime(2022, 5, 16, 16, 0), 3, '0005', '0007', 19.5, 85.5, 175.5, 1, 'C010')\n",
      "(6, datetime.datetime(2022, 5, 16, 16, 0), 3, '0010', '0010', 15.0, 45.0, 135.0, 1, 'C020')\n"
     ]
    }
   ],
   "source": [
    "#View\n",
    "cursor = cnxn.cursor()\n",
    "cursor.execute(\"SELECT * FROM  order_record\")\n",
    "row = cursor.fetchone() \n",
    "while row:\n",
    "    print (row) \n",
    "    row = cursor.fetchone()"
   ]
  },
  {
   "cell_type": "code",
   "execution_count": null,
   "id": "0c63e51c",
   "metadata": {},
   "outputs": [],
   "source": [
    "Order_No, Datetime, Quantity, Menu_id, Customer_id,Discount,Profit,Amount,Order_point,Store_id"
   ]
  },
  {
   "cell_type": "markdown",
   "id": "760b7d03",
   "metadata": {},
   "source": [
    "# Key order"
   ]
  },
  {
   "cell_type": "code",
   "execution_count": 15,
   "id": "0b9419e0",
   "metadata": {},
   "outputs": [],
   "source": [
    "def key_order():\n",
    "    x='y'\n",
    "    while x.lower()!='n':\n",
    "\n",
    "        order_no=int(input('order_no(int) :'))\n",
    "        datetime=input('Datetime(YYYY-MM-DD hh:mm:ss :)')\n",
    "        quantity=int(input('quantity:'))\n",
    "        menu_id=input('menu_id:')\n",
    "        customer_id=input('customer_id:')\n",
    "        cursor = cnxn.cursor()\n",
    "        cursor.execute(\"SELECT Menu_SellingPrice , menu_cost FROM menu WHERE menu_id=?\",(menu_id))\n",
    "        row = cursor.fetchone() \n",
    "        while row:\n",
    "            print (row) \n",
    "            a,b=row\n",
    "            row = cursor.fetchone()\n",
    "        price=a\n",
    "        cost=b\n",
    "        if customer_id!='':\n",
    "            discount=(quantity*a)*0.1\n",
    "            order_point=1\n",
    "        else:\n",
    "            discount=0\n",
    "            order_point=0\n",
    "        amount=(price*quantity-discount) \n",
    "        profit= amount-(cost*quantity)   \n",
    "        store_id=input('store_id:')  \n",
    "        print('********************************')\n",
    "        print('order no',order_no)\n",
    "        print('customer ID',customer_id)\n",
    "        print('Quantity',quantity)\n",
    "        print('Price',price)\n",
    "        print('Total before discount',price*quantity)\n",
    "        print('Discount',discount)\n",
    "        print('Amount',amount)\n",
    "        print('Point',order_point)\n",
    "        print('********************************')\n",
    "        cursor.execute(\"INSERT INTO order_record \\\n",
    "        (Order_No, Datetime, Quantity, Menu_id, Customer_id,Discount,Profit,Amount,Order_point,Store_id)\\\n",
    "        VALUES (?,?,?,?,?,?,?,?,?,?)\",(order_no,datetime,quantity,menu_id,customer_id,discount,profit,amount,order_point,store_id))\n",
    "        cnxn.commit()\n",
    "        #View\n",
    "        cursor = cnxn.cursor()\n",
    "        cursor.execute(\"SELECT * FROM  order_record WHERE Order_No=?\",(order_no))\n",
    "        row = cursor.fetchone() \n",
    "        while row:\n",
    "            print (row) \n",
    "            row = cursor.fetchone()\n",
    "        x=input('Y / N')\n",
    "    "
   ]
  },
  {
   "cell_type": "code",
   "execution_count": 16,
   "id": "b3ff0a22",
   "metadata": {},
   "outputs": [
    {
     "name": "stdout",
     "output_type": "stream",
     "text": [
      "order_no(int) :5\n",
      "Datetime(YYYY-MM-DD hh:mm:ss :)2022-05-16 16:00:00\n",
      "quantity:3\n",
      "menu_id:0005\n",
      "customer_id:0007\n",
      "(65, 30)\n",
      "store_id:C010\n",
      "********************************\n",
      "order no 5\n",
      "customer ID 0007\n",
      "Quantity 3\n",
      "Price 65\n",
      "Total before discount 195\n",
      "Discount 19.5\n",
      "Amount 175.5\n",
      "Point 1\n",
      "********************************\n",
      "(5, datetime.datetime(2022, 5, 16, 16, 0), 3, '0005', '0007', 19.5, 85.5, 175.5, 1, 'C010')\n",
      "Y / Ny\n",
      "order_no(int) :6\n",
      "Datetime(YYYY-MM-DD hh:mm:ss :)2022-05-16 16:00:00\n",
      "quantity:3\n",
      "menu_id:0010\n",
      "customer_id:0010\n",
      "(50, 30)\n",
      "store_id:C020\n",
      "********************************\n",
      "order no 6\n",
      "customer ID 0010\n",
      "Quantity 3\n",
      "Price 50\n",
      "Total before discount 150\n",
      "Discount 15.0\n",
      "Amount 135.0\n",
      "Point 1\n",
      "********************************\n",
      "(6, datetime.datetime(2022, 5, 16, 16, 0), 3, '0010', '0010', 15.0, 45.0, 135.0, 1, 'C020')\n",
      "Y / Nn\n"
     ]
    }
   ],
   "source": [
    "key_order()"
   ]
  },
  {
   "cell_type": "code",
   "execution_count": 7,
   "id": "41c2b9e4",
   "metadata": {},
   "outputs": [],
   "source": [
    "#Insert data \n",
    "cursor.execute(\"INSERT INTO store VALUES ('C033','swsxxx','กรุงเทพ')\")\n",
    "cnxn.commit()"
   ]
  },
  {
   "cell_type": "code",
   "execution_count": 14,
   "id": "d86fa9f0",
   "metadata": {},
   "outputs": [],
   "source": [
    "#Delete data\n",
    "cursor.execute(\"DELETE FROM store WHERE Store_id='C032' \")\n",
    "cnxn.commit()"
   ]
  },
  {
   "cell_type": "code",
   "execution_count": 69,
   "id": "d0bf0503",
   "metadata": {
    "scrolled": true
   },
   "outputs": [
    {
     "name": "stdout",
     "output_type": "stream",
     "text": [
      "Revenue by Store\n",
      "('C010', \"Coffee's เซ็นจูรี่อนุสาวรีย์\", 175.5)\n",
      "('C020', \"Coffee's บิ๊กซีสุขาภิบาล3\", 135.0)\n",
      "('C023', \"Coffee's บิ๊กซีนครปฐม\", 63.0)\n",
      "('C025', \"Coffee's บิ๊กซีสุขาภิบาล5\", 58.5)\n",
      "('C001', \"Coffee's เซ็นทรัลพระราม3\", 54.0)\n",
      "('C022', \"Coffee's บิ๊กซีราชดำริ\", 54.0)\n"
     ]
    }
   ],
   "source": [
    " #View amount summary\n",
    "cursor = cnxn.cursor()\n",
    "cursor.execute(\"SELECT order_record.Store_id,store.Store_name,sum(Amount) as Rev FROM order_record  \\\n",
    "INNER JOIN store ON store.Store_ID=order_record.Store_id \\\n",
    "GROUP BY order_record.Store_id ORDER BY 3 DESC\")\n",
    "row = cursor.fetchone()\n",
    "print (\"Revenue by Store\")\n",
    "while row:        \n",
    "    print (row) \n",
    "    row = cursor.fetchone()"
   ]
  },
  {
   "cell_type": "code",
   "execution_count": 130,
   "id": "3b059568",
   "metadata": {},
   "outputs": [],
   "source": [
    "def get_price(menu_id):\n",
    "    cursor = cnxn.cursor()\n",
    "    cursor.execute(\"SELECT Menu_SellingPrice , menu_cost FROM menu WHERE menu_id=?\",(menu_id))\n",
    "    row = cursor.fetchone() \n",
    "    while row:\n",
    "        a,b=row\n",
    "        row = cursor.fetchone()\n",
    "    return(a)\n",
    "def get_cost(menu_id):\n",
    "    cursor = cnxn.cursor()\n",
    "    cursor.execute(\"SELECT Menu_SellingPrice , menu_cost FROM menu WHERE menu_id=?\",(menu_id))\n",
    "    row = cursor.fetchone() \n",
    "    while row:\n",
    "        a,b=row\n",
    "        row = cursor.fetchone()\n",
    "    return(b) "
   ]
  },
  {
   "cell_type": "code",
   "execution_count": 131,
   "id": "b53b9bc6",
   "metadata": {},
   "outputs": [],
   "source": [
    "a=get_price('0001')"
   ]
  },
  {
   "cell_type": "code",
   "execution_count": 129,
   "id": "1feb6d47",
   "metadata": {},
   "outputs": [
    {
     "data": {
      "text/plain": [
       "35"
      ]
     },
     "execution_count": 129,
     "metadata": {},
     "output_type": "execute_result"
    }
   ],
   "source": [
    "a"
   ]
  },
  {
   "cell_type": "code",
   "execution_count": 132,
   "id": "5d5bd077",
   "metadata": {},
   "outputs": [],
   "source": [
    "b=get_cost('0001')"
   ]
  },
  {
   "cell_type": "code",
   "execution_count": 133,
   "id": "bddfa8f5",
   "metadata": {},
   "outputs": [
    {
     "data": {
      "text/plain": [
       "20"
      ]
     },
     "execution_count": 133,
     "metadata": {},
     "output_type": "execute_result"
    }
   ],
   "source": [
    "b"
   ]
  },
  {
   "cell_type": "code",
   "execution_count": null,
   "id": "d891ed92",
   "metadata": {},
   "outputs": [],
   "source": [
    "def update_menu_price(menu_id,price):\n",
    "    where menu_id = menu_id \n"
   ]
  }
 ],
 "metadata": {
  "kernelspec": {
   "display_name": "Python 3 (ipykernel)",
   "language": "python",
   "name": "python3"
  },
  "language_info": {
   "codemirror_mode": {
    "name": "ipython",
    "version": 3
   },
   "file_extension": ".py",
   "mimetype": "text/x-python",
   "name": "python",
   "nbconvert_exporter": "python",
   "pygments_lexer": "ipython3",
   "version": "3.9.7"
  }
 },
 "nbformat": 4,
 "nbformat_minor": 5
}
